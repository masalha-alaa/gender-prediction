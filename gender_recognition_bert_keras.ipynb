{
  "cells": [
    {
      "cell_type": "markdown",
      "metadata": {
        "id": "view-in-github",
        "colab_type": "text"
      },
      "source": [
        "<a href=\"https://colab.research.google.com/github/masalha-alaa/gender-prediction/blob/master/gender_recognition_bert_keras.ipynb\" target=\"_parent\"><img src=\"https://colab.research.google.com/assets/colab-badge.svg\" alt=\"Open In Colab\"/></a>"
      ]
    },
    {
      "cell_type": "code",
      "execution_count": 1,
      "metadata": {
        "colab": {
          "base_uri": "https://localhost:8080/"
        },
        "id": "AJLJi95l9Pjp",
        "outputId": "651f0ebd-7f26-4fb4-d691-28459fbbcecf"
      },
      "outputs": [
        {
          "output_type": "stream",
          "name": "stdout",
          "text": [
            "Collecting emoji\n",
            "  Downloading emoji-1.6.1.tar.gz (170 kB)\n",
            "\u001b[?25l\r\u001b[K     |██                              | 10 kB 25.1 MB/s eta 0:00:01\r\u001b[K     |███▉                            | 20 kB 29.5 MB/s eta 0:00:01\r\u001b[K     |█████▉                          | 30 kB 25.5 MB/s eta 0:00:01\r\u001b[K     |███████▊                        | 40 kB 19.4 MB/s eta 0:00:01\r\u001b[K     |█████████▋                      | 51 kB 15.8 MB/s eta 0:00:01\r\u001b[K     |███████████▋                    | 61 kB 13.8 MB/s eta 0:00:01\r\u001b[K     |█████████████▌                  | 71 kB 11.2 MB/s eta 0:00:01\r\u001b[K     |███████████████▍                | 81 kB 12.1 MB/s eta 0:00:01\r\u001b[K     |█████████████████▍              | 92 kB 13.1 MB/s eta 0:00:01\r\u001b[K     |███████████████████▎            | 102 kB 12.6 MB/s eta 0:00:01\r\u001b[K     |█████████████████████▏          | 112 kB 12.6 MB/s eta 0:00:01\r\u001b[K     |███████████████████████▏        | 122 kB 12.6 MB/s eta 0:00:01\r\u001b[K     |█████████████████████████       | 133 kB 12.6 MB/s eta 0:00:01\r\u001b[K     |███████████████████████████     | 143 kB 12.6 MB/s eta 0:00:01\r\u001b[K     |█████████████████████████████   | 153 kB 12.6 MB/s eta 0:00:01\r\u001b[K     |██████████████████████████████▉ | 163 kB 12.6 MB/s eta 0:00:01\r\u001b[K     |████████████████████████████████| 170 kB 12.6 MB/s \n",
            "\u001b[?25hBuilding wheels for collected packages: emoji\n",
            "  Building wheel for emoji (setup.py) ... \u001b[?25l\u001b[?25hdone\n",
            "  Created wheel for emoji: filename=emoji-1.6.1-py3-none-any.whl size=169314 sha256=9bc4f785613e8b07e10d666808cb05e881cc6a2b2c851a9a359d4af115d60e2c\n",
            "  Stored in directory: /root/.cache/pip/wheels/ea/5f/d3/03d313ddb3c2a1a427bb4690f1621eea60fe6f2a30cc95940f\n",
            "Successfully built emoji\n",
            "Installing collected packages: emoji\n",
            "Successfully installed emoji-1.6.1\n",
            "[nltk_data] Downloading package averaged_perceptron_tagger to\n",
            "[nltk_data]     /root/nltk_data...\n",
            "[nltk_data]   Unzipping taggers/averaged_perceptron_tagger.zip.\n",
            "[nltk_data] Downloading package punkt to /root/nltk_data...\n",
            "[nltk_data]   Unzipping tokenizers/punkt.zip.\n",
            "[nltk_data] Downloading package vader_lexicon to /root/nltk_data...\n"
          ]
        },
        {
          "output_type": "stream",
          "name": "stderr",
          "text": [
            "/usr/local/lib/python3.7/dist-packages/nltk/twitter/__init__.py:20: UserWarning: The twython library has not been installed. Some functionality from the twitter package will not be available.\n",
            "  warnings.warn(\"The twython library has not been installed. \"\n"
          ]
        },
        {
          "output_type": "stream",
          "name": "stdout",
          "text": [
            "\u001b[K     |████████████████████████████████| 4.9 MB 12.7 MB/s \n",
            "\u001b[K     |████████████████████████████████| 1.8 MB 12.0 MB/s \n",
            "\u001b[K     |████████████████████████████████| 43 kB 2.2 MB/s \n",
            "\u001b[K     |████████████████████████████████| 596 kB 44.3 MB/s \n",
            "\u001b[K     |████████████████████████████████| 47.7 MB 3.9 MB/s \n",
            "\u001b[K     |████████████████████████████████| 213 kB 56.2 MB/s \n",
            "\u001b[K     |████████████████████████████████| 352 kB 53.3 MB/s \n",
            "\u001b[K     |████████████████████████████████| 1.2 MB 51.2 MB/s \n",
            "\u001b[K     |████████████████████████████████| 1.1 MB 40.0 MB/s \n",
            "\u001b[K     |████████████████████████████████| 90 kB 10.4 MB/s \n",
            "\u001b[K     |████████████████████████████████| 99 kB 9.8 MB/s \n",
            "\u001b[?25h  Building wheel for py-cpuinfo (setup.py) ... \u001b[?25l\u001b[?25hdone\n",
            "  Building wheel for seqeval (setup.py) ... \u001b[?25l\u001b[?25hdone\n"
          ]
        }
      ],
      "source": [
        "import os\n",
        "from google.colab import drive\n",
        "\n",
        "from collections import OrderedDict\n",
        "from collections import Counter\n",
        "from enum import Enum\n",
        "import re\n",
        "!pip install emoji\n",
        "import emoji\n",
        "from sklearn.feature_selection import SelectKBest\n",
        "from sklearn.preprocessing import MinMaxScaler\n",
        "from sklearn.metrics import mean_squared_error\n",
        "from sklearn.feature_extraction.text import CountVectorizer, TfidfVectorizer\n",
        "import scipy.sparse as sp\n",
        "from multiprocessing import Pool, cpu_count\n",
        "\n",
        "import tensorflow as tf\n",
        "from tensorflow.keras.utils import to_categorical\n",
        "from tensorflow import keras\n",
        "from tensorflow.keras import callbacks, layers\n",
        "\n",
        "from datetime import datetime\n",
        "import numpy as np\n",
        "import pandas as pd\n",
        "\n",
        "from pathlib import Path\n",
        "import zipfile\n",
        "from pickle import load, dump\n",
        "\n",
        "from sklearn.preprocessing import LabelEncoder\n",
        "from sklearn.metrics import confusion_matrix\n",
        "\n",
        "import string\n",
        "import random\n",
        "from tqdm.notebook import tqdm\n",
        "import matplotlib.pyplot as plt\n",
        "import itertools\n",
        "\n",
        "import nltk\n",
        "nltk.download('averaged_perceptron_tagger')\n",
        "nltk.download('punkt')\n",
        "nltk.download('vader_lexicon')\n",
        "from nltk import word_tokenize\n",
        "from nltk import data as nltk_data, pos_tag\n",
        "from nltk.sentiment import SentimentIntensityAnalyzer\n",
        "\n",
        "!pip install -q -U tensorflow-text\n",
        "!pip install -q tf-models-official\n",
        "import tensorflow_hub as hub\n",
        "import tensorflow_text as text\n",
        "from official.nlp import optimization  # to create AdamW optimizer\n",
        "\n",
        "SEED = 42\n",
        "BATCH_SIZE = 32\n",
        "NGRAM_LEN = (1)\n",
        "MOST_COMMON = 1150"
      ]
    },
    {
      "cell_type": "code",
      "execution_count": 2,
      "metadata": {
        "colab": {
          "base_uri": "https://localhost:8080/"
        },
        "id": "kUu-7gfL-lNj",
        "outputId": "b6c0698f-43b4-4f7c-afbf-84c5f14b30a8"
      },
      "outputs": [
        {
          "output_type": "stream",
          "name": "stdout",
          "text": [
            "Mounted at /content/gdrive\n"
          ]
        }
      ],
      "source": [
        "drive.mount('/content/gdrive')"
      ]
    },
    {
      "cell_type": "code",
      "execution_count": 3,
      "metadata": {
        "id": "BpcJL8slBDKG"
      },
      "outputs": [],
      "source": [
        "# Dataframe columns\n",
        "TEXT = 'txt'\n",
        "URL = 'url'\n",
        "AUTHOR = 'author'\n",
        "LABEL = GENDER = 'gender'"
      ]
    },
    {
      "cell_type": "code",
      "execution_count": 4,
      "metadata": {
        "id": "IrrS03-ZBxSQ"
      },
      "outputs": [],
      "source": [
        "def clean_line_parallel(params):\n",
        "    part, emoticons_ = params\n",
        "    return part.apply(lambda row: clean_line(row, emoticons_))\n",
        "\n",
        "\n",
        "def clean_line(line, emos=None):\n",
        "    if not line:\n",
        "        return ''\n",
        "    EMOJI = r'emj'\n",
        "    URL = r'url'\n",
        "    PUNCT = r'pnc'\n",
        "    remove = ['your comment has been removed', 'this comment or post has been removed', 'removed ', 'removed. ',\n",
        "              'your submission has been remove', 'this post has been removed', 'your post has been removed']\n",
        "    line = line.lower()\n",
        "    if any(re.match(r, line) for r in remove):\n",
        "        return ''\n",
        "    line = emoji.get_emoji_regexp().sub(EMOJI, line)\n",
        "    if emos is None:\n",
        "        emoticons_ = emoticons\n",
        "    else:\n",
        "        emoticons_ = emos\n",
        "    for emoticon in emoticons_:\n",
        "        line = line.replace(emoticon, EMOJI)\n",
        "    line = re.sub(r'\\(?http\\S+\\)?', URL, line)\n",
        "    return line\n",
        "\n",
        "\n",
        "def posify(txt):\n",
        "    \"\"\"\n",
        "    Converts txt to part of speech tags\n",
        "    \"\"\"\n",
        "    return ' '.join([pair[1] for pair in pos_tag(txt.split())])\n",
        "\n",
        "\n",
        "def posifyNew(txt):\n",
        "    \"\"\"\n",
        "    Converts txt to pairs of word & POS\n",
        "    \"\"\"\n",
        "    return ' '.join([' '.join(pos) for pos in pos_tag(txt.split())])\n",
        "\n",
        "\n",
        "def posifyNew2(txt):\n",
        "    \"\"\"\n",
        "    Appends pos text to txt\n",
        "    \"\"\"\n",
        "    return txt + ' ' + ' '.join([pos[1] for pos in pos_tag(txt.split())])\n",
        "\n",
        "\n",
        "\n",
        "def tokenize(txt):\n",
        "    # return ' '.join(word_tokenize(clean_line(txt)))\n",
        "    # return clean_line(txt)\n",
        "    return ' '.join(word_tokenize(txt))\n",
        "\n",
        "\n",
        "def sentecize(txt):\n",
        "    return tokenizer.tokenize(txt)\n",
        "\n",
        "\n",
        "def aggregate(df, sentences_n=4):\n",
        "    df_agg = df.groupby(df.index // sentences_n).agg({'txt': ' '.join, 'pos': ' '.join, 'gender': 'first'}).reset_index(drop=True).copy()\n",
        "    return df_agg"
      ]
    },
    {
      "cell_type": "code",
      "execution_count": 5,
      "metadata": {
        "colab": {
          "base_uri": "https://localhost:8080/"
        },
        "id": "ETcKorg5Bo2W",
        "outputId": "ce703f55-6544-4950-d880-bd6c05d3090a"
      },
      "outputs": [
        {
          "output_type": "stream",
          "name": "stdout",
          "text": [
            "Program started\n",
            "2022-01-09 18:47:30.843256\n",
            "\n",
            "Cleaning... 0:00:50.994386\n",
            "Splitting to genders...\n",
            "Tokenzing... 0:00:17.596846\n",
            "Splitting to sentences...\n",
            "Sentiment analysis... 0:00:30.674162\n",
            "Example: it helpdesk nerd combined with being linux sysadmin nerd neu\n",
            "Posifying... 0:01:49.265001\n",
            "Adding labels...\n",
            "Class size: 45898\n",
            "Shuffling and aggregating...\n",
            "Class size (M,F): 11475, 11475\n",
            "Merging and shuffling...\n",
            "Splitting to train / test...\n",
            "Train size: 16064\n",
            "Test size: 6886\n"
          ]
        }
      ],
      "source": [
        "ts = datetime.now()\n",
        "print('Program started')\n",
        "print(f'{ts}\\n')\n",
        "\n",
        "EMOJI = r'emj'\n",
        "URL = r'url'\n",
        "MALE, FEMALE = 0, 1\n",
        "PRECUT = 0.30\n",
        "CLASS_SIZE = None  # None to take min max\n",
        "SELECT_K_BEST = 100\n",
        "TRAIN_FRAC = 0.70\n",
        "MIN_SENT_LEN = 5  # in tokens  # TODO: Do some trials\n",
        "\n",
        "DRIVE_ROOT_DATA_DIR = Path(\"/content/gdrive/MyDrive/gender-project/\")\n",
        "EXTRA_DIR = DRIVE_ROOT_DATA_DIR / \"extra\"\n",
        "EMOTICONS_LST_FILE = \"emoticons.txt\"\n",
        "FUNCTION_WORDS_LST_FILE = \"fw.txt\"\n",
        "\n",
        "# read dataset\n",
        "data = pd.read_csv(DRIVE_ROOT_DATA_DIR / \"dataset3 and 2021-11-06 19-51-29\" / \"raw\" / \"data.csv\")\n",
        "if 0 < PRECUT < 1:\n",
        "    data = data.sample(frac=PRECUT, random_state=SEED)\n",
        "\n",
        "data = data.drop(data[(data.gender != 'male') & (data.gender != 'female')].index).reset_index(drop=True)\n",
        "\n",
        "# Clean\n",
        "clean_ts = datetime.now()\n",
        "print('Cleaning...', end=' ')\n",
        "with open(EXTRA_DIR / EMOTICONS_LST_FILE) as f:\n",
        "    emoticons = [emoticon.lower() for emoticon in list(set(f.read().split()))]\n",
        "if MIN_SENT_LEN > 1:\n",
        "    # TODO: Ditch short before or after exploding?!\n",
        "    data[data.txt.str.split().apply(len) < MIN_SENT_LEN] = ''\n",
        "    # data = data[data.txt.str.split().apply(len) >= MIN_SENT_LEN].reset_index(drop=True)\n",
        "\n",
        "# PARALLEL BEGIN\n",
        "pools = cpu_count()\n",
        "with Pool(pools) as pool:\n",
        "    groups = [(part, emoticons) for part in np.array_split(data['txt'], pools)]\n",
        "    data['txt'] = pd.concat(pool.map(clean_line_parallel, groups), axis=0)\n",
        "# PARALLEL END\n",
        "\n",
        "data = data.replace('', np.nan).dropna().reset_index(drop=True)\n",
        "print(datetime.now() - clean_ts)\n",
        "\n",
        "# split to genders\n",
        "print('Splitting to genders...')\n",
        "male = data.loc[data['gender'] == 'male', ['txt']]\n",
        "female = data.loc[data['gender'] == 'female', ['txt']]\n",
        "\n",
        "# tokenize\n",
        "tokeniz_ts = datetime.now()\n",
        "print('Tokenzing...', end=' ')\n",
        "male['txt'] = male['txt'].apply(tokenize)\n",
        "female['txt'] = female['txt'].apply(tokenize)\n",
        "print(datetime.now() - tokeniz_ts)\n",
        "\n",
        "# split to sentences\n",
        "print('Splitting to sentences...')\n",
        "tokenizer = nltk_data.load('tokenizers/punkt/english.pickle')\n",
        "male = male.apply(lambda row: sentecize(row['txt']), axis=1).explode('txt').apply(lambda row: row.strip()).replace('', np.nan).dropna().to_frame('txt').copy().reset_index(drop=True)\n",
        "female = female.apply(lambda row: sentecize(row['txt']), axis=1).explode('txt').apply(lambda row: row.strip()).replace('', np.nan).dropna().to_frame('txt').copy().reset_index(drop=True)\n",
        "\n",
        "# sentiment analysis per sentence\n",
        "def createSentiments(ser, sia):\n",
        "    sentiments = ser.apply(lambda row: {k:v for k,v in sia.polarity_scores(row).items() if k != 'compound'})\n",
        "    return sentiments\n",
        "\n",
        "print('Sentiment analysis...', end=' ')\n",
        "sia_ts = datetime.now()\n",
        "sia = SentimentIntensityAnalyzer()\n",
        "sentiments = createSentiments(male['txt'], sia)\n",
        "male['txt'] = male.apply(lambda row: row['txt'] + ' ' + max(sentiments[row.name], key=sentiments[row.name].get), axis=1)\n",
        "sentiments = createSentiments(female['txt'], sia)\n",
        "female['txt'] = female.apply(lambda row: row['txt'] + ' ' + max(sentiments[row.name], key=sentiments[row.name].get), axis=1)\n",
        "print(datetime.now() - sia_ts)\n",
        "print(f\"Example: {male['txt'][0]}\")\n",
        "\n",
        "# posify\n",
        "print('Posifying...', end=' ')\n",
        "ts_pos = datetime.now()\n",
        "with Pool(cpu_count()) as pool:\n",
        "    # only pos\n",
        "    # male['pos'] = pool.map(posify, male['txt'])\n",
        "    # female['pos'] = pool.map(posify, female['txt'])\n",
        "    # txt and pos together\n",
        "    male['pos'] = pool.map(posifyNew, male['txt'])\n",
        "    female['pos'] = pool.map(posifyNew, female['txt'])\n",
        "print(datetime.now() - ts_pos)\n",
        "\n",
        "# add labels\n",
        "print('Adding labels...')\n",
        "male['gender'] = [MALE] * len(male)\n",
        "female['gender'] = [FEMALE] * len(female)\n",
        "\n",
        "# sample randomly and aggregate\n",
        "select_n = CLASS_SIZE if CLASS_SIZE and CLASS_SIZE <= min(len(male), len(female)) else min(len(male), len(female))\n",
        "print(f'Class size: {select_n}')\n",
        "print('Shuffling and aggregating...')\n",
        "male = male.sample(n=select_n, random_state=SEED).reset_index(drop=True)\n",
        "female = female.sample(n=select_n, random_state=SEED).reset_index(drop=True)\n",
        "male = aggregate(male)\n",
        "female = aggregate(female)\n",
        "print(f'Class size (M,F): {len(male)}, {len(female)}')\n",
        "\n",
        "# merge and shuffle\n",
        "print('Merging and shuffling...')\n",
        "data = pd.concat([male, female]).reset_index(drop=True).sample(frac=1.0, random_state=SEED).reset_index(drop=True)\n",
        "\n",
        "# split to train / test\n",
        "print('Splitting to train / test...')\n",
        "test = data.iloc[int(len(data) * TRAIN_FRAC):].reset_index(drop=True)\n",
        "train = data.iloc[:int(len(data) * TRAIN_FRAC)]\n",
        "print(f'Train size: {len(train)}')\n",
        "print(f'Test size: {len(test)}')"
      ]
    },
    {
      "cell_type": "code",
      "execution_count": 6,
      "metadata": {
        "id": "kIlwUunJq7nx"
      },
      "outputs": [],
      "source": [
        "# Convert to tensorflow dataset\n",
        "\n",
        "# Choose:\n",
        "# DATA = TEXT\n",
        "DATA = 'pos'\n",
        "\n",
        "train_dataset = tf.data.Dataset.from_tensor_slices((train[DATA], keras.utils.to_categorical(train[LABEL])))\n",
        "test_dataset = tf.data.Dataset.from_tensor_slices((test[DATA], keras.utils.to_categorical(test[LABEL])))\n",
        "\n",
        "train_dataset = train_dataset.shuffle(train.shape[0]).batch(BATCH_SIZE).prefetch(tf.data.AUTOTUNE)\n",
        "test_dataset = test_dataset.shuffle(test.shape[0]).batch(BATCH_SIZE).prefetch(tf.data.AUTOTUNE)\n",
        "\n",
        "train, test = None, None"
      ]
    },
    {
      "cell_type": "code",
      "execution_count": 7,
      "metadata": {
        "colab": {
          "base_uri": "https://localhost:8080/",
          "height": 322
        },
        "id": "Krvqr_JX8srJ",
        "outputId": "df1b5721-752f-424c-a5a8-66f727bd881b"
      },
      "outputs": [
        {
          "output_type": "stream",
          "name": "stdout",
          "text": [
            "1150 [('NN', 301444), ('.', 160920), ('IN', 141341), ('JJ', 109581), ('RB', 108202), ('PRP', 106969), ('DT', 99770), (',', 96108), ('VB', 87249), ('neu', 84205), ('VBP', 67511), ('NNS', 63383), ('CC', 57556), ('i', 49594), ('VBZ', 45410), ('VBD', 40851), ('TO', 39842), ('to', 39476), ('and', 35567), ('VBG', 35040)]\n",
            "Min occurrences: ('birthday', 105)\n"
          ]
        },
        {
          "output_type": "display_data",
          "data": {
            "image/png": "[encoded data removed]",
            "text/plain": [
              "<Figure size 432x288 with 1 Axes>"
            ]
          },
          "metadata": {
            "needs_background": "light"
          }
        }
      ],
      "source": [
        "vocab = Counter()\n",
        "# junk = data[DATA].str.split().apply(vocab.update)\n",
        "junk = data[DATA].apply(lambda x: vocab.update(x.split()))\n",
        "junk = None\n",
        "vocab = vocab.most_common(MOST_COMMON)\n",
        "encoder = tf.keras.layers.experimental.preprocessing.TextVectorization(standardize=None, vocabulary=list(set([k for k,_ in vocab])), ngrams=NGRAM_LEN)\n",
        "# encoder.adapt(train_dataset.map(lambda text, label: text))  # not needed, because we passed the vocabulary manually\n",
        "print(len(vocab), vocab[:20])\n",
        "print(f'Min occurrences: {vocab[-1]}')\n",
        "plt.bar(*zip(*vocab))\n",
        "vocab = None"
      ]
    },
    {
      "cell_type": "code",
      "execution_count": 8,
      "metadata": {
        "colab": {
          "base_uri": "https://localhost:8080/"
        },
        "id": "uEVlVzulT9TJ",
        "outputId": "81fba3ee-422c-431c-c890-94add2984c87"
      },
      "outputs": [
        {
          "output_type": "execute_result",
          "data": {
            "text/plain": [
              "['us',\n",
              " 'afraid',\n",
              " 'selfish',\n",
              " 'speaking',\n",
              " 'home',\n",
              " 'towards',\n",
              " 'cute',\n",
              " 'lose',\n",
              " 'of',\n",
              " 'cheating',\n",
              " 'super',\n",
              " 'attractive',\n",
              " 'CD',\n",
              " 'gives',\n",
              " 'least',\n",
              " 'gets',\n",
              " 'continue',\n",
              " 'situations',\n",
              " 'didn',\n",
              " '$',\n",
              " 'today',\n",
              " 'rude',\n",
              " 'like',\n",
              " '&',\n",
              " 'broke',\n",
              " 'rest',\n",
              " 'college',\n",
              " 'natural',\n",
              " 'coming',\n",
              " 'sexually',\n",
              " 'line',\n",
              " 'plus',\n",
              " 'is',\n",
              " 'fucking',\n",
              " 'damn',\n",
              " 'value',\n",
              " 'yourself',\n",
              " 'off',\n",
              " 'send',\n",
              " ')']"
            ]
          },
          "metadata": {},
          "execution_count": 8
        }
      ],
      "source": [
        "random.sample(encoder.get_vocabulary(), 40)"
      ]
    },
    {
      "cell_type": "code",
      "execution_count": 9,
      "metadata": {
        "colab": {
          "base_uri": "https://localhost:8080/"
        },
        "id": "oEhs6EUepX_6",
        "outputId": "d8bda6fd-8338-48fb-fa24-eeb973ac38af"
      },
      "outputs": [
        {
          "output_type": "stream",
          "name": "stdout",
          "text": [
            "text:  [b\"so RB glad JJ i NN clicked VBD it PRP ! . pos NN we PRP had VBD a DT group NN cottage NN thing NN , , and CC the DT organizer NN did VBD n't RB tell VB us PRP he PRP overbooked VBD beds NNS , , if IN he PRP had VBD just RB told VBN us PRP we PRP would MD have VB brought VBN air NN mattresses NNS or CC something NN . . neu NN it PRP is VBZ ok JJ to TO stop VB being VBG friends NNS with IN people NNS . . neu NN a DT very RB long JJ time NN ago IN neu NN\"\n",
            " b\"i NN had VBD a DT very RB intense JJ ldr NN about IN 8-10 CD years NNS ago RB . . neu NN i NN just RB love VB diane NN and CC her PRP$ flaws NNS and CC i NN can MD relate VB to TO her PRP$ on IN a DT next JJ level NN . . neu NN okay NN , , thank NN you PRP so RB much JJ emjemjemj NN i NN \\xe2\\x80\\x99 VBP ll NN go VBP for IN it PRP neu VBD if IN we PRP can MD just RB cuddle VB on IN the DT couch NN while IN reading VBG books NNS that WDT 's VBZ just RB a DT dream NN . . neu NN\"\n",
            " b\"you PRP can MD use VB `` `` i JJ 'm VBP not RB holding VBG anything NN against IN you PRP , , but CC i RB need VBP to TO talk VB to TO you PRP about IN this DT because IN we PRP 're VBP a DT team NN and CC i NN ca MD n't RB be VB alone RB in IN this DT . . neu NN he PRP could MD meet VB someone NN new JJ and CC they PRP 'd MD be VB telling VBG him PRP their PRP$ life NN story NN within IN minutes NNS . . neu NN especially RB to TO them PRP . . neu NN losing VBG 25 CD pounds NNS ... : nope NN . . neu NN\"]\n",
            "label:  [[0. 1.]\n",
            " [0. 1.]\n",
            " [0. 1.]]\n"
          ]
        }
      ],
      "source": [
        "for example, label in train_dataset.take(1):\n",
        "    print('text: ', example.numpy()[:3])\n",
        "    print('label: ', label.numpy()[:3])"
      ]
    },
    {
      "cell_type": "code",
      "execution_count": 10,
      "metadata": {
        "id": "ovn6pjGNlosO"
      },
      "outputs": [],
      "source": [
        "def build_bert_classifier_model():\n",
        "    tfhub_handle_encoder = 'https://tfhub.dev/tensorflow/small_bert/bert_en_uncased_L-4_H-512_A-8/1'\n",
        "    tfhub_handle_preprocess = 'https://tfhub.dev/tensorflow/bert_en_uncased_preprocess/3'\n",
        "    # tfhub_handle_encoder = 'https://tfhub.dev/tensorflow/albert_en_base/2'\n",
        "    # tfhub_handle_preprocess = 'https://tfhub.dev/tensorflow/albert_en_preprocess/3'\n",
        "    bert_preprocess_model = hub.KerasLayer(tfhub_handle_preprocess)\n",
        "    bert_model = hub.KerasLayer(tfhub_handle_encoder)\n",
        "    text_input = tf.keras.layers.Input(shape=(), dtype=tf.string, name='text')\n",
        "    preprocessing_layer = hub.KerasLayer(tfhub_handle_preprocess, name='preprocessing')\n",
        "    encoder_inputs = preprocessing_layer(text_input)\n",
        "    encoder = hub.KerasLayer(tfhub_handle_encoder, trainable=True, name='BERT_encoder')\n",
        "    outputs = encoder(encoder_inputs)\n",
        "    net = outputs['pooled_output']\n",
        "    net = tf.keras.layers.Dropout(0.1)(net)\n",
        "    net = tf.keras.layers.Dense(2, activation='sigmoid', name='classifier')(net)\n",
        "    return tf.keras.Model(text_input, net)"
      ]
    },
    {
      "cell_type": "code",
      "execution_count": 11,
      "metadata": {
        "colab": {
          "base_uri": "https://localhost:8080/"
        },
        "id": "JyipsljCpepQ",
        "outputId": "d2e4aab5-36de-4b80-f130-7fa5f980fb6b"
      },
      "outputs": [
        {
          "output_type": "stream",
          "name": "stdout",
          "text": [
            "Creating model...\n",
            "[0.43319732 0.24140519]\n",
            "[0.43319738 0.24140523]\n"
          ]
        }
      ],
      "source": [
        "MODEL = 3\n",
        "save_path = DRIVE_ROOT_DATA_DIR / \"keras_lstm_model_TEMP\"\n",
        "EPOCHS = 20\n",
        "\n",
        "print('Creating model...')\n",
        "if MODEL == 1:\n",
        "    model = tf.keras.Sequential([\n",
        "        encoder,\n",
        "        tf.keras.layers.Embedding(\n",
        "            input_dim=len(encoder.get_vocabulary()),\n",
        "            output_dim=100,\n",
        "            # Use masking to handle the variable sequence lengths\n",
        "            mask_zero=False),\n",
        "        tf.keras.layers.Bidirectional(tf.keras.layers.LSTM(128)),\n",
        "        # tf.keras.layers.Dense(128, activation='relu'),\n",
        "        # tf.keras.layers.Dense(2)\n",
        "        tf.keras.layers.Dense(2, activation='softmax')\n",
        "    ])\n",
        "\n",
        "elif MODEL == 2:\n",
        "    model = tf.keras.Sequential([\n",
        "        encoder,\n",
        "        tf.keras.layers.Embedding(len(encoder.get_vocabulary()), 100, mask_zero=True),\n",
        "        tf.keras.layers.BatchNormalization(),\n",
        "        tf.keras.layers.Bidirectional(tf.keras.layers.LSTM(128,  return_sequences=True)),\n",
        "        tf.keras.layers.Bidirectional(tf.keras.layers.LSTM(128)),\n",
        "        # tf.keras.layers.Dense(64, activation='relu'),\n",
        "        # tf.keras.layers.Dropout(0.5),\n",
        "        # tf.keras.layers.Dense(2)\n",
        "        tf.keras.layers.Dropout(0.5),\n",
        "        tf.keras.layers.Dense(2, activation='softmax')\n",
        "    ])\n",
        "else:  # 3 (BERT)\n",
        "    model = build_bert_classifier_model()\n",
        "\n",
        "def lr_scheduler(epoch, lr):\n",
        "    if epoch > 0 and epoch % 5 == 0:\n",
        "        return lr * 0.5\n",
        "    return lr\n",
        "\n",
        "my_callbacks = [callbacks.LambdaCallback(on_epoch_end=lambda epoch,logs: model.save(save_path) if epoch % 5 == 0 else None),\n",
        "                callbacks.EarlyStopping(monitor='val_binary_accuracy', patience=3, restore_best_weights=True),]\n",
        "                #callbacks.LearningRateScheduler(lr_scheduler),]\n",
        "                # callbacks.ReduceLROnPlateau(monitor='val_loss', factor=0.5, min_delta=0.01, min_lr=1e-5, patience=3, verbose=1)]\n",
        "loss_func = tf.keras.losses.BinaryCrossentropy(from_logits=False)\n",
        "steps_per_epoch = tf.data.experimental.cardinality(train_dataset).numpy()\n",
        "num_train_steps = steps_per_epoch * EPOCHS\n",
        "num_warmup_steps = int(0.1*num_train_steps)\n",
        "init_lr = 3e-5\n",
        "optimizer = optimization.create_optimizer(init_lr=init_lr,\n",
        "                                          num_train_steps=num_train_steps,\n",
        "                                          num_warmup_steps=num_warmup_steps,\n",
        "                                          optimizer_type='adamw')\n",
        "model.compile(loss=loss_func,\n",
        "              optimizer=optimizer,\n",
        "              metrics=[tf.metrics.BinaryAccuracy()])\n",
        "\n",
        "\n",
        "# TEST:\n",
        "# predict on a sample text without padding.\n",
        "\n",
        "sample_text = ('The movie was cool. The animation and the graphics '\n",
        "               'were out of this world. I would recommend this movie.')\n",
        "predictions = model.predict(np.array([sample_text]))\n",
        "print(predictions[0])\n",
        "\n",
        "# predict on a sample text with padding\n",
        "\n",
        "padding = \"the \" * 2000\n",
        "predictions = model.predict(np.array([sample_text, padding]))\n",
        "print(predictions[0])\n",
        "\n",
        "# for i in range(len(encoded_lbls)):\n",
        "#     print(loss_func(predictions[0], keras.utils.to_categorical(i, num_classes=len(encoded_lbls))).numpy())"
      ]
    },
    {
      "cell_type": "code",
      "execution_count": 12,
      "metadata": {
        "colab": {
          "base_uri": "https://localhost:8080/"
        },
        "id": "HeBBFR55qTcZ",
        "outputId": "caebc841-5932-40e6-9c17-1dbd26a4a128"
      },
      "outputs": [
        {
          "output_type": "stream",
          "name": "stdout",
          "text": [
            "Epoch 1/20\n",
            "502/502 [==============================] - ETA: 0s - loss: 0.7067 - binary_accuracy: 0.5366"
          ]
        },
        {
          "output_type": "stream",
          "name": "stderr",
          "text": [
            "WARNING:absl:Found untraced functions such as restored_function_body, restored_function_body, restored_function_body, restored_function_body, restored_function_body while saving (showing 5 of 310). These functions will not be directly callable after loading.\n"
          ]
        },
        {
          "output_type": "stream",
          "name": "stdout",
          "text": [
            "INFO:tensorflow:Assets written to: /content/gdrive/MyDrive/gender-project/keras_lstm_model_TEMP/assets\n"
          ]
        },
        {
          "output_type": "stream",
          "name": "stderr",
          "text": [
            "INFO:tensorflow:Assets written to: /content/gdrive/MyDrive/gender-project/keras_lstm_model_TEMP/assets\n"
          ]
        },
        {
          "output_type": "stream",
          "name": "stdout",
          "text": [
            "\b\b\b\b\b\b\b\b\b\b\b\b\b\b\b\b\b\b\b\b\b\b\b\b\b\b\b\b\b\b\b\b\b\b\b\b\b\b\b\b\b\b\b\b\b\b\b\b\b\b\b\b\b\b\b\b\b\b\b\b\b\b\b\b\b\b\b\b\b\b\b\b\b\b\b\b\b\b\b\b\b\b\b\b\b\b\b\b\b\b\b\r502/502 [==============================] - 264s 510ms/step - loss: 0.7067 - binary_accuracy: 0.5366 - val_loss: 0.6575 - val_binary_accuracy: 0.6152\n",
            "Epoch 2/20\n",
            "502/502 [==============================] - 242s 483ms/step - loss: 0.6562 - binary_accuracy: 0.6114 - val_loss: 0.6375 - val_binary_accuracy: 0.6295\n",
            "Epoch 3/20\n",
            "502/502 [==============================] - 242s 482ms/step - loss: 0.6114 - binary_accuracy: 0.6634 - val_loss: 0.6196 - val_binary_accuracy: 0.6637\n",
            "Epoch 4/20\n",
            "502/502 [==============================] - 241s 480ms/step - loss: 0.5437 - binary_accuracy: 0.7211 - val_loss: 0.6484 - val_binary_accuracy: 0.6612\n",
            "Epoch 5/20\n",
            "502/502 [==============================] - 241s 480ms/step - loss: 0.4735 - binary_accuracy: 0.7725 - val_loss: 0.6423 - val_binary_accuracy: 0.6722\n",
            "Epoch 6/20\n",
            "502/502 [==============================] - ETA: 0s - loss: 0.3865 - binary_accuracy: 0.8309"
          ]
        },
        {
          "output_type": "stream",
          "name": "stderr",
          "text": [
            "WARNING:absl:Found untraced functions such as restored_function_body, restored_function_body, restored_function_body, restored_function_body, restored_function_body while saving (showing 5 of 310). These functions will not be directly callable after loading.\n"
          ]
        },
        {
          "output_type": "stream",
          "name": "stdout",
          "text": [
            "INFO:tensorflow:Assets written to: /content/gdrive/MyDrive/gender-project/keras_lstm_model_TEMP/assets\n"
          ]
        },
        {
          "output_type": "stream",
          "name": "stderr",
          "text": [
            "INFO:tensorflow:Assets written to: /content/gdrive/MyDrive/gender-project/keras_lstm_model_TEMP/assets\n"
          ]
        },
        {
          "output_type": "stream",
          "name": "stdout",
          "text": [
            "\b\b\b\b\b\b\b\b\b\b\b\b\b\b\b\b\b\b\b\b\b\b\b\b\b\b\b\b\b\b\b\b\b\b\b\b\b\b\b\b\b\b\b\b\b\b\b\b\b\b\b\b\b\b\b\b\b\b\b\b\b\b\b\b\b\b\b\b\b\b\b\b\b\b\b\b\b\b\b\b\b\b\b\b\b\b\b\b\b\b\b\r502/502 [==============================] - 253s 504ms/step - loss: 0.3865 - binary_accuracy: 0.8309 - val_loss: 0.7494 - val_binary_accuracy: 0.6675\n",
            "Epoch 7/20\n",
            "502/502 [==============================] - 241s 480ms/step - loss: 0.3138 - binary_accuracy: 0.8659 - val_loss: 0.9011 - val_binary_accuracy: 0.6568\n",
            "Epoch 8/20\n",
            "502/502 [==============================] - 241s 480ms/step - loss: 0.2510 - binary_accuracy: 0.8969 - val_loss: 0.9784 - val_binary_accuracy: 0.6582\n"
          ]
        },
        {
          "output_type": "stream",
          "name": "stderr",
          "text": [
            "WARNING:absl:Found untraced functions such as restored_function_body, restored_function_body, restored_function_body, restored_function_body, restored_function_body while saving (showing 5 of 310). These functions will not be directly callable after loading.\n"
          ]
        },
        {
          "output_type": "stream",
          "name": "stdout",
          "text": [
            "INFO:tensorflow:Assets written to: /content/gdrive/MyDrive/gender-project/keras_lstm_model_TEMP/assets\n"
          ]
        },
        {
          "output_type": "stream",
          "name": "stderr",
          "text": [
            "INFO:tensorflow:Assets written to: /content/gdrive/MyDrive/gender-project/keras_lstm_model_TEMP/assets\n"
          ]
        },
        {
          "output_type": "stream",
          "name": "stdout",
          "text": [
            "Model saved to: /content/gdrive/MyDrive/gender-project/keras_lstm_model_TEMP\n"
          ]
        }
      ],
      "source": [
        "with tf.device('/gpu:0'):\n",
        "    history = model.fit(train_dataset, epochs=EPOCHS, validation_data=test_dataset, callbacks=my_callbacks)\n",
        "model.save(save_path)\n",
        "print(f'Model saved to: {save_path}')"
      ]
    },
    {
      "cell_type": "code",
      "execution_count": 13,
      "metadata": {
        "colab": {
          "base_uri": "https://localhost:8080/",
          "height": 422
        },
        "id": "NR2AR08Drd_k",
        "outputId": "0fd25939-956d-49b8-f567-5b1194429e08"
      },
      "outputs": [
        {
          "output_type": "execute_result",
          "data": {
            "text/plain": [
              "<matplotlib.legend.Legend at 0x7f765d9a4f10>"
            ]
          },
          "metadata": {},
          "execution_count": 13
        },
        {
          "output_type": "display_data",
          "data": {
            "image/png": "[encoded data removed]",
            "text/plain": [
              "<Figure size 1080x432 with 2 Axes>"
            ]
          },
          "metadata": {
            "needs_background": "light"
          }
        }
      ],
      "source": [
        "fig, axs = plt.subplots(1, 2, figsize=(15,6))\n",
        "axs[0].set_title('Accuracy')\n",
        "axs[0].set_xlabel('epoch')\n",
        "axs[0].set_ylabel('accuracy')\n",
        "axs[0].plot(history.history['binary_accuracy'])\n",
        "axs[0].plot(history.history['val_binary_accuracy'])\n",
        "axs[0].legend(['train', 'test'])\n",
        "\n",
        "axs[1].set_title('Loss')\n",
        "axs[1].set_xlabel('epoch')\n",
        "axs[1].set_ylabel('loss')\n",
        "axs[1].plot(history.history['loss'])\n",
        "axs[1].plot(history.history['val_loss'])\n",
        "axs[1].legend(['train', 'test'])"
      ]
    },
    {
      "cell_type": "code",
      "source": [
        "keras.models.load_model(save_path)"
      ],
      "metadata": {
        "id": "HZxnuqGpT9mD"
      },
      "execution_count": null,
      "outputs": []
    }
  ],
  "metadata": {
    "accelerator": "GPU",
    "colab": {
      "collapsed_sections": [],
      "name": "gender_recognition_bert_keras.ipynb",
      "provenance": [],
      "include_colab_link": true
    },
    "kernelspec": {
      "display_name": "Python 3",
      "name": "python3"
    },
    "language_info": {
      "name": "python"
    }
  },
  "nbformat": 4,
  "nbformat_minor": 0
}