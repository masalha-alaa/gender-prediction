{
  "nbformat": 4,
  "nbformat_minor": 0,
  "metadata": {
    "colab": {
      "name": "gender-recognition-keras.ipynb",
      "provenance": [],
      "collapsed_sections": [],
      "authorship_tag": "ABX9TyN84Ua//JOBKySuDno4upEC",
      "include_colab_link": true
    },
    "kernelspec": {
      "name": "python3",
      "display_name": "Python 3"
    },
    "language_info": {
      "name": "python"
    },
    "accelerator": "GPU"
  },
  "cells": [
    {
      "cell_type": "markdown",
      "metadata": {
        "id": "view-in-github",
        "colab_type": "text"
      },
      "source": [
        "<a href=\"https://colab.research.google.com/github/masalha-alaa/gender-prediction/blob/master/gender_recognition_keras.ipynb\" target=\"_parent\"><img src=\"https://colab.research.google.com/assets/colab-badge.svg\" alt=\"Open In Colab\"/></a>"
      ]
    },
    {
      "cell_type": "code",
      "metadata": {
        "id": "AJLJi95l9Pjp",
        "colab": {
          "base_uri": "https://localhost:8080/"
        },
        "outputId": "8e953748-1d9e-4665-c382-37ccd180a8ea"
      },
      "source": [
        "import os\n",
        "from google.colab import drive\n",
        "\n",
        "from collections import OrderedDict\n",
        "from collections import Counter\n",
        "from enum import Enum\n",
        "import re\n",
        "!pip install emoji\n",
        "import emoji\n",
        "from sklearn.feature_selection import SelectKBest\n",
        "from sklearn.preprocessing import MinMaxScaler\n",
        "from sklearn.metrics import mean_squared_error\n",
        "from sklearn.feature_extraction.text import CountVectorizer, TfidfVectorizer\n",
        "import scipy.sparse as sp\n",
        "from multiprocessing import Pool, cpu_count\n",
        "\n",
        "import tensorflow as tf\n",
        "from tensorflow.keras.utils import to_categorical\n",
        "from tensorflow import keras\n",
        "from tensorflow.keras import callbacks, layers\n",
        "\n",
        "from datetime import datetime\n",
        "import numpy as np\n",
        "import pandas as pd\n",
        "\n",
        "from pathlib import Path\n",
        "import zipfile\n",
        "from pickle import load, dump\n",
        "\n",
        "from sklearn.preprocessing import LabelEncoder\n",
        "from sklearn.metrics import confusion_matrix\n",
        "\n",
        "import string\n",
        "import random\n",
        "from tqdm.notebook import tqdm\n",
        "import matplotlib.pyplot as plt\n",
        "import itertools\n",
        "\n",
        "import nltk\n",
        "nltk.download('averaged_perceptron_tagger')\n",
        "nltk.download('punkt')\n",
        "nltk.download('vader_lexicon')\n",
        "from nltk import word_tokenize\n",
        "from nltk import data as nltk_data, pos_tag\n",
        "from nltk.sentiment import SentimentIntensityAnalyzer\n",
        "\n",
        "\n",
        "SEED = 42\n",
        "BATCH_SIZE = 64\n",
        "NGRAM_LEN = (1)\n",
        "MOST_COMMON = 1150"
      ],
      "execution_count": 1,
      "outputs": [
        {
          "output_type": "stream",
          "name": "stdout",
          "text": [
            "Collecting emoji\n",
            "  Downloading emoji-1.6.1.tar.gz (170 kB)\n",
            "\u001b[?25l\r\u001b[K     |██                              | 10 kB 16.1 MB/s eta 0:00:01\r\u001b[K     |███▉                            | 20 kB 17.3 MB/s eta 0:00:01\r\u001b[K     |█████▉                          | 30 kB 11.4 MB/s eta 0:00:01\r\u001b[K     |███████▊                        | 40 kB 9.5 MB/s eta 0:00:01\r\u001b[K     |█████████▋                      | 51 kB 5.7 MB/s eta 0:00:01\r\u001b[K     |███████████▋                    | 61 kB 6.2 MB/s eta 0:00:01\r\u001b[K     |█████████████▌                  | 71 kB 5.9 MB/s eta 0:00:01\r\u001b[K     |███████████████▍                | 81 kB 6.5 MB/s eta 0:00:01\r\u001b[K     |█████████████████▍              | 92 kB 6.5 MB/s eta 0:00:01\r\u001b[K     |███████████████████▎            | 102 kB 5.6 MB/s eta 0:00:01\r\u001b[K     |█████████████████████▏          | 112 kB 5.6 MB/s eta 0:00:01\r\u001b[K     |███████████████████████▏        | 122 kB 5.6 MB/s eta 0:00:01\r\u001b[K     |█████████████████████████       | 133 kB 5.6 MB/s eta 0:00:01\r\u001b[K     |███████████████████████████     | 143 kB 5.6 MB/s eta 0:00:01\r\u001b[K     |█████████████████████████████   | 153 kB 5.6 MB/s eta 0:00:01\r\u001b[K     |██████████████████████████████▉ | 163 kB 5.6 MB/s eta 0:00:01\r\u001b[K     |████████████████████████████████| 170 kB 5.6 MB/s \n",
            "\u001b[?25hBuilding wheels for collected packages: emoji\n",
            "  Building wheel for emoji (setup.py) ... \u001b[?25l\u001b[?25hdone\n",
            "  Created wheel for emoji: filename=emoji-1.6.1-py3-none-any.whl size=169314 sha256=70db9ee43c2b3e8613e3aaaa6faddd14c108899229fd1fa1bb590eb31a9fd960\n",
            "  Stored in directory: /root/.cache/pip/wheels/ea/5f/d3/03d313ddb3c2a1a427bb4690f1621eea60fe6f2a30cc95940f\n",
            "Successfully built emoji\n",
            "Installing collected packages: emoji\n",
            "Successfully installed emoji-1.6.1\n",
            "[nltk_data] Downloading package averaged_perceptron_tagger to\n",
            "[nltk_data]     /root/nltk_data...\n",
            "[nltk_data]   Unzipping taggers/averaged_perceptron_tagger.zip.\n",
            "[nltk_data] Downloading package punkt to /root/nltk_data...\n",
            "[nltk_data]   Unzipping tokenizers/punkt.zip.\n",
            "[nltk_data] Downloading package vader_lexicon to /root/nltk_data...\n"
          ]
        },
        {
          "output_type": "stream",
          "name": "stderr",
          "text": [
            "/usr/local/lib/python3.7/dist-packages/nltk/twitter/__init__.py:20: UserWarning: The twython library has not been installed. Some functionality from the twitter package will not be available.\n",
            "  warnings.warn(\"The twython library has not been installed. \"\n"
          ]
        }
      ]
    },
    {
      "cell_type": "code",
      "metadata": {
        "id": "kUu-7gfL-lNj",
        "colab": {
          "base_uri": "https://localhost:8080/"
        },
        "outputId": "923c2a84-5750-47a2-91b2-0759af610adc"
      },
      "source": [
        "drive.mount('/content/gdrive')"
      ],
      "execution_count": 2,
      "outputs": [
        {
          "output_type": "stream",
          "name": "stdout",
          "text": [
            "Mounted at /content/gdrive\n"
          ]
        }
      ]
    },
    {
      "cell_type": "code",
      "metadata": {
        "id": "BpcJL8slBDKG"
      },
      "source": [
        "# Dataframe columns\n",
        "TEXT = 'txt'\n",
        "URL = 'url'\n",
        "AUTHOR = 'author'\n",
        "LABEL = GENDER = 'gender'"
      ],
      "execution_count": 3,
      "outputs": []
    },
    {
      "cell_type": "code",
      "metadata": {
        "id": "IrrS03-ZBxSQ"
      },
      "source": [
        "def clean_line_parallel(params):\n",
        "    part, emoticons_ = params\n",
        "    return part.apply(lambda row: clean_line(row, emoticons_))\n",
        "\n",
        "\n",
        "def clean_line(line, emos=None):\n",
        "    if not line:\n",
        "        return ''\n",
        "    EMOJI = r'emj'\n",
        "    URL = r'url'\n",
        "    PUNCT = r'pnc'\n",
        "    remove = ['your comment has been removed', 'this comment or post has been removed', 'removed ', 'removed. ',\n",
        "              'your submission has been remove', 'this post has been removed', 'your post has been removed']\n",
        "    line = line.lower()\n",
        "    if any(re.match(r, line) for r in remove):\n",
        "        return ''\n",
        "    line = emoji.get_emoji_regexp().sub(EMOJI, line)\n",
        "    if emos is None:\n",
        "        emoticons_ = emoticons\n",
        "    else:\n",
        "        emoticons_ = emos\n",
        "    for emoticon in emoticons_:\n",
        "        line = line.replace(emoticon, EMOJI)\n",
        "    line = re.sub(r'\\(?http\\S+\\)?', URL, line)\n",
        "    return line\n",
        "\n",
        "\n",
        "def posify(txt):\n",
        "    \"\"\"\n",
        "    Converts txt to part of speech tags\n",
        "    \"\"\"\n",
        "    return ' '.join([pair[1] for pair in pos_tag(txt.split())])\n",
        "\n",
        "\n",
        "def posifyNew(txt):\n",
        "    \"\"\"\n",
        "    Converts txt to pairs of word & POS\n",
        "    \"\"\"\n",
        "    return ' '.join([' '.join(pos) for pos in pos_tag(txt.split())])\n",
        "\n",
        "\n",
        "def posifyNew2(txt):\n",
        "    \"\"\"\n",
        "    Appends pos text to txt\n",
        "    \"\"\"\n",
        "    return txt + ' ' + ' '.join([pos[1] for pos in pos_tag(txt.split())])\n",
        "\n",
        "\n",
        "\n",
        "def tokenize(txt):\n",
        "    # return ' '.join(word_tokenize(clean_line(txt)))\n",
        "    # return clean_line(txt)\n",
        "    return ' '.join(word_tokenize(txt))\n",
        "\n",
        "\n",
        "def sentecize(txt):\n",
        "    return tokenizer.tokenize(txt)\n",
        "\n",
        "\n",
        "def aggregate(df, sentences_n=4):\n",
        "    df_agg = df.groupby(df.index // sentences_n).agg({'txt': ' '.join, 'pos': ' '.join, 'gender': 'first'}).reset_index(drop=True).copy()\n",
        "    return df_agg"
      ],
      "execution_count": 4,
      "outputs": []
    },
    {
      "cell_type": "code",
      "metadata": {
        "colab": {
          "base_uri": "https://localhost:8080/"
        },
        "id": "ETcKorg5Bo2W",
        "outputId": "1fcf9ebe-8230-4966-940f-fb6a12884778"
      },
      "source": [
        "ts = datetime.now()\n",
        "print('Program started')\n",
        "print(f'{ts}\\n')\n",
        "\n",
        "EMOJI = r'emj'\n",
        "URL = r'url'\n",
        "MALE, FEMALE = 0, 1\n",
        "PRECUT = 0.30\n",
        "CLASS_SIZE = None  # None to take min max\n",
        "SELECT_K_BEST = 100\n",
        "TRAIN_FRAC = 0.70\n",
        "MIN_SENT_LEN = 5  # in tokens  # TODO: Do some trials\n",
        "\n",
        "DRIVE_ROOT_DATA_DIR = Path(\"/content/gdrive/MyDrive/gender-project/\")\n",
        "EXTRA_DIR = DRIVE_ROOT_DATA_DIR / \"extra\"\n",
        "EMOTICONS_LST_FILE = \"emoticons.txt\"\n",
        "FUNCTION_WORDS_LST_FILE = \"fw.txt\"\n",
        "\n",
        "# read dataset\n",
        "data = pd.read_csv(DRIVE_ROOT_DATA_DIR / \"dataset3 and 2021-11-06 19-51-29\" / \"raw\" / \"data.csv\")\n",
        "if 0 < PRECUT < 1:\n",
        "    data = data.sample(frac=PRECUT, random_state=SEED)\n",
        "\n",
        "data = data.drop(data[(data.gender != 'male') & (data.gender != 'female')].index).reset_index(drop=True)\n",
        "\n",
        "# Clean\n",
        "clean_ts = datetime.now()\n",
        "print('Cleaning...', end=' ')\n",
        "with open(EXTRA_DIR / EMOTICONS_LST_FILE) as f:\n",
        "    emoticons = [emoticon.lower() for emoticon in list(set(f.read().split()))]\n",
        "if MIN_SENT_LEN > 1:\n",
        "    # TODO: Ditch short before or after exploding?!\n",
        "    data[data.txt.str.split().apply(len) < MIN_SENT_LEN] = ''\n",
        "    # data = data[data.txt.str.split().apply(len) >= MIN_SENT_LEN].reset_index(drop=True)\n",
        "\n",
        "# PARALLEL BEGIN\n",
        "pools = cpu_count()\n",
        "with Pool(pools) as pool:\n",
        "    groups = [(part, emoticons) for part in np.array_split(data['txt'], pools)]\n",
        "    data['txt'] = pd.concat(pool.map(clean_line_parallel, groups), axis=0)\n",
        "# PARALLEL END\n",
        "\n",
        "data = data.replace('', np.nan).dropna().reset_index(drop=True)\n",
        "print(datetime.now() - clean_ts)\n",
        "\n",
        "# split to genders\n",
        "print('Splitting to genders...')\n",
        "male = data.loc[data['gender'] == 'male', ['txt']]\n",
        "female = data.loc[data['gender'] == 'female', ['txt']]\n",
        "\n",
        "# tokenize\n",
        "tokeniz_ts = datetime.now()\n",
        "print('Tokenzing...', end=' ')\n",
        "male['txt'] = male['txt'].apply(tokenize)\n",
        "female['txt'] = female['txt'].apply(tokenize)\n",
        "print(datetime.now() - tokeniz_ts)\n",
        "\n",
        "# split to sentences\n",
        "print('Splitting to sentences...')\n",
        "tokenizer = nltk_data.load('tokenizers/punkt/english.pickle')\n",
        "male = male.apply(lambda row: sentecize(row['txt']), axis=1).explode('txt').apply(lambda row: row.strip()).replace('', np.nan).dropna().to_frame('txt').copy().reset_index(drop=True)\n",
        "female = female.apply(lambda row: sentecize(row['txt']), axis=1).explode('txt').apply(lambda row: row.strip()).replace('', np.nan).dropna().to_frame('txt').copy().reset_index(drop=True)\n",
        "\n",
        "# sentiment analysis per sentence\n",
        "def createSentiments(ser, sia):\n",
        "    sentiments = ser.apply(lambda row: {k:v for k,v in sia.polarity_scores(row).items() if k != 'compound'})\n",
        "    return sentiments\n",
        "\n",
        "print('Sentiment analysis...', end=' ')\n",
        "sia_ts = datetime.now()\n",
        "sia = SentimentIntensityAnalyzer()\n",
        "sentiments = createSentiments(male['txt'], sia)\n",
        "male['txt'] = male.apply(lambda row: row['txt'] + ' ' + max(sentiments[row.name], key=sentiments[row.name].get), axis=1)\n",
        "sentiments = createSentiments(female['txt'], sia)\n",
        "female['txt'] = female.apply(lambda row: row['txt'] + ' ' + max(sentiments[row.name], key=sentiments[row.name].get), axis=1)\n",
        "print(datetime.now() - sia_ts)\n",
        "print(f\"Example: {male['txt'][0]}\")\n",
        "\n",
        "# posify\n",
        "print('Posifying...', end=' ')\n",
        "ts_pos = datetime.now()\n",
        "with Pool(cpu_count()) as pool:\n",
        "    # only pos\n",
        "    # male['pos'] = pool.map(posify, male['txt'])\n",
        "    # female['pos'] = pool.map(posify, female['txt'])\n",
        "    # txt and pos together\n",
        "    male['pos'] = pool.map(posifyNew, male['txt'])\n",
        "    female['pos'] = pool.map(posifyNew, female['txt'])\n",
        "print(datetime.now() - ts_pos)\n",
        "\n",
        "# add labels\n",
        "print('Adding labels...')\n",
        "male['gender'] = [MALE] * len(male)\n",
        "female['gender'] = [FEMALE] * len(female)\n",
        "\n",
        "# sample randomly and aggregate\n",
        "select_n = CLASS_SIZE if CLASS_SIZE and CLASS_SIZE <= min(len(male), len(female)) else min(len(male), len(female))\n",
        "print(f'Class size: {select_n}')\n",
        "print('Shuffling and aggregating...')\n",
        "male = male.sample(n=select_n, random_state=SEED).reset_index(drop=True)\n",
        "female = female.sample(n=select_n, random_state=SEED).reset_index(drop=True)\n",
        "male = aggregate(male)\n",
        "female = aggregate(female)\n",
        "print(f'Class size (M,F): {len(male)}, {len(female)}')\n",
        "\n",
        "# merge and shuffle\n",
        "print('Merging and shuffling...')\n",
        "data = pd.concat([male, female]).reset_index(drop=True).sample(frac=1.0, random_state=SEED).reset_index(drop=True)\n",
        "\n",
        "# split to train / test\n",
        "print('Splitting to train / test...')\n",
        "test = data.iloc[int(len(data) * TRAIN_FRAC):].reset_index(drop=True)\n",
        "train = data.iloc[:int(len(data) * TRAIN_FRAC)]\n",
        "print(f'Train size: {len(train)}')\n",
        "print(f'Test size: {len(test)}')"
      ],
      "execution_count": 5,
      "outputs": [
        {
          "output_type": "stream",
          "name": "stdout",
          "text": [
            "Program started\n",
            "2021-12-04 19:33:37.197250\n",
            "\n",
            "Cleaning... 0:00:49.559692\n",
            "Splitting to genders...\n",
            "Tokenzing... 0:00:17.620430\n",
            "Splitting to sentences...\n",
            "Sentiment analysis... 0:00:30.194586\n",
            "Example: it helpdesk nerd combined with being linux sysadmin nerd neu\n",
            "Posifying... 0:01:46.849101\n",
            "Adding labels...\n",
            "Class size: 45898\n",
            "Shuffling and aggregating...\n",
            "Class size (M,F): 11475, 11475\n",
            "Merging and shuffling...\n",
            "Splitting to train / test...\n",
            "Train size: 16064\n",
            "Test size: 6886\n"
          ]
        }
      ]
    },
    {
      "cell_type": "code",
      "metadata": {
        "id": "kIlwUunJq7nx"
      },
      "source": [
        "# Convert to tensorflow dataset\n",
        "\n",
        "# Choose:\n",
        "# DATA = TEXT\n",
        "DATA = 'pos'\n",
        "\n",
        "train_dataset = tf.data.Dataset.from_tensor_slices((train[DATA], keras.utils.to_categorical(train[LABEL])))\n",
        "test_dataset = tf.data.Dataset.from_tensor_slices((test[DATA], keras.utils.to_categorical(test[LABEL])))\n",
        "\n",
        "train_dataset = train_dataset.shuffle(train.shape[0]).batch(BATCH_SIZE).prefetch(tf.data.AUTOTUNE)\n",
        "test_dataset = test_dataset.shuffle(test.shape[0]).batch(BATCH_SIZE).prefetch(tf.data.AUTOTUNE)\n",
        "\n",
        "train, test = None, None"
      ],
      "execution_count": 6,
      "outputs": []
    },
    {
      "cell_type": "code",
      "metadata": {
        "colab": {
          "base_uri": "https://localhost:8080/",
          "height": 320
        },
        "id": "Krvqr_JX8srJ",
        "outputId": "ded91d2e-fb43-48f6-ab38-d05d6b1a98aa"
      },
      "source": [
        "vocab = Counter()\n",
        "# junk = data[DATA].str.split().apply(vocab.update)\n",
        "junk = data[DATA].apply(lambda x: vocab.update(x.split()))\n",
        "junk = None\n",
        "vocab = vocab.most_common(MOST_COMMON)\n",
        "encoder = tf.keras.layers.experimental.preprocessing.TextVectorization(standardize=None, vocabulary=list(set([k for k,_ in vocab])), ngrams=NGRAM_LEN)\n",
        "# encoder.adapt(train_dataset.map(lambda text, label: text))  # not needed, because we passed the vocabulary manually\n",
        "print(len(vocab), vocab[:20])\n",
        "print(f'Min occurrences: {vocab[-1]}')\n",
        "plt.bar(*zip(*vocab))\n",
        "vocab = None"
      ],
      "execution_count": 7,
      "outputs": [
        {
          "output_type": "stream",
          "name": "stdout",
          "text": [
            "1150 [('NN', 301444), ('.', 160920), ('IN', 141341), ('JJ', 109581), ('RB', 108202), ('PRP', 106969), ('DT', 99770), (',', 96108), ('VB', 87249), ('neu', 84205), ('VBP', 67511), ('NNS', 63383), ('CC', 57556), ('i', 49594), ('VBZ', 45410), ('VBD', 40851), ('TO', 39842), ('to', 39476), ('and', 35567), ('VBG', 35040)]\n",
            "Min occurrences: ('birthday', 105)\n"
          ]
        },
        {
          "output_type": "display_data",
          "data": {
            "image/png": "[encoded data removed]",
            "text/plain": [
              "<Figure size 432x288 with 1 Axes>"
            ]
          },
          "metadata": {
            "needs_background": "light"
          }
        }
      ]
    },
    {
      "cell_type": "code",
      "metadata": {
        "colab": {
          "base_uri": "https://localhost:8080/"
        },
        "id": "uEVlVzulT9TJ",
        "outputId": "164db695-b6a9-41b5-9199-cb90af299221"
      },
      "source": [
        "random.sample(encoder.get_vocabulary(), 40)"
      ],
      "execution_count": 8,
      "outputs": [
        {
          "output_type": "execute_result",
          "data": {
            "text/plain": [
              "['VBZ',\n",
              " 'CD',\n",
              " 'anymore',\n",
              " ';',\n",
              " 'therapy',\n",
              " 'level',\n",
              " 'appreciate',\n",
              " 'current',\n",
              " 'local',\n",
              " 'laugh',\n",
              " 'everything',\n",
              " 'dad',\n",
              " 'starting',\n",
              " 'step',\n",
              " 'months',\n",
              " 'course',\n",
              " 'text',\n",
              " 'these',\n",
              " 'known',\n",
              " 'places',\n",
              " 'simple',\n",
              " 'character',\n",
              " 'EX',\n",
              " ',',\n",
              " 'problems',\n",
              " 'gf',\n",
              " 'knowing',\n",
              " 'needs',\n",
              " 'pressure',\n",
              " 'favorite',\n",
              " 'speaking',\n",
              " 'IN',\n",
              " 'others',\n",
              " 'some',\n",
              " 'common',\n",
              " 'currently',\n",
              " 'average',\n",
              " 'thing',\n",
              " 'real',\n",
              " 'fucking']"
            ]
          },
          "metadata": {},
          "execution_count": 8
        }
      ]
    },
    {
      "cell_type": "code",
      "metadata": {
        "colab": {
          "base_uri": "https://localhost:8080/"
        },
        "id": "oEhs6EUepX_6",
        "outputId": "fcda6164-5312-488a-a2ad-9b5ea49a7f08"
      },
      "source": [
        "for example, label in train_dataset.take(1):\n",
        "    print('text: ', example.numpy()[:3])\n",
        "    print('label: ', label.numpy()[:3])"
      ],
      "execution_count": 9,
      "outputs": [
        {
          "output_type": "stream",
          "name": "stdout",
          "text": [
            "text:  [b'i NN got VBD on IN my PRP$ dream NN training NN programme NN and CC had VBD to TO move VB away RB for IN it PRP . . neu CC i NN think VBP that IN no DT loving JJ husband NN or CC father NN could MD see VB his PRP$ wife NN go VBP through IN the DT kind NN of IN postpartum NN psychosis NN she PRP went VBD through IN and CC think VB \\xe2\\x80\\x9c NNP let VB \\xe2\\x80\\x99 NNP s VB have VBP another DT ! . neu NN if IN she PRP ignored VBD you PRP , , that WDT shows VBZ to TO me PRP that IN she PRP does VBZ not RB want VB you PRP to TO interact VB with IN her PRP at IN all DT though IN , , so RB in IN your PRP$ situation NN , , i NN would MD ignore VB her PRP as RB well RB . . neu NN so RB forcefully RB separating VBG the DT mother NN is VBZ okay JJ but CC running VBG away RB with IN it PRP due JJ to TO a DT toxic JJ environment NN is VBZ not RB ? . neu NNS'\n",
            " b\"> NN apparently RB she PRP has VBZ a DT crush NN on IN him PRP congratulations NNS , , your PRP$ girlfriend NN is VBZ now RB a DT slam NN piece NN neu NN when WRB he PRP visits VBZ , , you PRP should MD have VB a DT talk NN about IN wanting VBG to TO be VB exclusive JJ . . neu NN i NN barely RB remember VB her PRP . . neu NN i NN am VBP just RB worried VBN if IN i JJ go VBP ahead RB and CC start VB to TO talk VB with IN my PRP$ ex NN and CC see VB if IN there EX is VBZ still RB something NN but CC i NN do VBP n't RB want VB to TO be VB an DT asshole JJ leaving VBG the DT girl NN that IN i VBZ am VBP currently RB dating VBG . . neu NN\"\n",
            " b\"guys NNS that WDT shave VBP their PRP$ body NN at IN all DT just RB seem VBP feminine JJ to TO me PRP and CC it PRP puts VBZ me PRP off RP . . neu NN sgigb NN , , my PRP$ roomie NN , , '' '' conversations NNS . . neu NN runner NN 's POS high JJ . . neu NN i NN \\xe2\\x80\\x99 VBP m NN healthy JJ with IN no DT pain NN . . neg NN\"]\n",
            "label:  [[0. 1.]\n",
            " [1. 0.]\n",
            " [0. 1.]]\n"
          ]
        }
      ]
    },
    {
      "cell_type": "code",
      "metadata": {
        "colab": {
          "base_uri": "https://localhost:8080/"
        },
        "id": "JyipsljCpepQ",
        "outputId": "84ecfda7-3aa7-4f14-ed67-627989aada79"
      },
      "source": [
        "MODEL = 1\n",
        "save_path = DRIVE_ROOT_DATA_DIR / \"keras_lstm_model_TEMP\"\n",
        "\n",
        "print('Creating model...')\n",
        "if MODEL == 1:\n",
        "    model = tf.keras.Sequential([\n",
        "        encoder,\n",
        "        tf.keras.layers.Embedding(\n",
        "            input_dim=len(encoder.get_vocabulary()),\n",
        "            output_dim=100,\n",
        "            # Use masking to handle the variable sequence lengths\n",
        "            mask_zero=False),\n",
        "        tf.keras.layers.Bidirectional(tf.keras.layers.LSTM(128)),\n",
        "        # tf.keras.layers.Dense(128, activation='relu'),\n",
        "        # tf.keras.layers.Dense(2)\n",
        "        tf.keras.layers.Dense(2, activation='softmax')\n",
        "    ])\n",
        "\n",
        "else:\n",
        "    model = tf.keras.Sequential([\n",
        "        encoder,\n",
        "        tf.keras.layers.Embedding(len(encoder.get_vocabulary()), 100, mask_zero=True),\n",
        "        tf.keras.layers.BatchNormalization(),\n",
        "        tf.keras.layers.Bidirectional(tf.keras.layers.LSTM(128,  return_sequences=True)),\n",
        "        tf.keras.layers.Bidirectional(tf.keras.layers.LSTM(128)),\n",
        "        # tf.keras.layers.Dense(64, activation='relu'),\n",
        "        # tf.keras.layers.Dropout(0.5),\n",
        "        # tf.keras.layers.Dense(2)\n",
        "        tf.keras.layers.Dropout(0.5),\n",
        "        tf.keras.layers.Dense(2, activation='softmax')\n",
        "    ])\n",
        "\n",
        "def lr_scheduler(epoch, lr):\n",
        "    if epoch > 0 and epoch % 5 == 0:\n",
        "        return lr * 0.5\n",
        "    return lr\n",
        "\n",
        "my_callbacks = [callbacks.LambdaCallback(on_epoch_end=lambda epoch,logs: model.save(save_path) if epoch % 5 == 0 else None),\n",
        "                callbacks.EarlyStopping(monitor='val_accuracy', patience=4, restore_best_weights=True),]\n",
        "                #callbacks.LearningRateScheduler(lr_scheduler),]\n",
        "                # callbacks.ReduceLROnPlateau(monitor='val_loss', factor=0.5, min_delta=0.01, min_lr=1e-5, patience=3, verbose=1)]\n",
        "loss_func = tf.keras.losses.CategoricalCrossentropy(from_logits=False)\n",
        "model.compile(loss=loss_func,\n",
        "              optimizer=tf.keras.optimizers.Adam(1e-4),\n",
        "              metrics=['accuracy'])\n",
        "\n",
        "\n",
        "# TEST:\n",
        "# predict on a sample text without padding.\n",
        "\n",
        "sample_text = ('The movie was cool. The animation and the graphics '\n",
        "               'were out of this world. I would recommend this movie.')\n",
        "predictions = model.predict(np.array([sample_text]))\n",
        "print(predictions[0])\n",
        "\n",
        "# predict on a sample text with padding\n",
        "\n",
        "padding = \"the \" * 2000\n",
        "predictions = model.predict(np.array([sample_text, padding]))\n",
        "print(predictions[0])\n",
        "\n",
        "# for i in range(len(encoded_lbls)):\n",
        "#     print(loss_func(predictions[0], keras.utils.to_categorical(i, num_classes=len(encoded_lbls))).numpy())"
      ],
      "execution_count": 10,
      "outputs": [
        {
          "output_type": "stream",
          "name": "stdout",
          "text": [
            "Creating model...\n",
            "[0.5016295 0.4983705]\n",
            "[0.50104094 0.49895906]\n"
          ]
        }
      ]
    },
    {
      "cell_type": "code",
      "metadata": {
        "colab": {
          "base_uri": "https://localhost:8080/"
        },
        "id": "HeBBFR55qTcZ",
        "outputId": "fb2b4e02-f149-4cb2-f3ac-120de88be20e"
      },
      "source": [
        "with tf.device('/gpu:0'):\n",
        "    history = model.fit(train_dataset, epochs=20, validation_data=test_dataset, callbacks=my_callbacks)\n",
        "model.save(save_path)\n",
        "print(f'Model saved to: {save_path}')"
      ],
      "execution_count": 11,
      "outputs": [
        {
          "output_type": "stream",
          "name": "stdout",
          "text": [
            "Epoch 1/20\n",
            "251/251 [==============================] - ETA: 0s - loss: 0.6921 - accuracy: 0.5250"
          ]
        },
        {
          "output_type": "stream",
          "name": "stderr",
          "text": [
            "WARNING:absl:Found untraced functions such as lstm_cell_1_layer_call_fn, lstm_cell_1_layer_call_and_return_conditional_losses, lstm_cell_2_layer_call_fn, lstm_cell_2_layer_call_and_return_conditional_losses, lstm_cell_1_layer_call_fn while saving (showing 5 of 10). These functions will not be directly callable after loading.\n"
          ]
        },
        {
          "output_type": "stream",
          "name": "stdout",
          "text": [
            "INFO:tensorflow:Assets written to: /content/gdrive/MyDrive/gender-project/keras_lstm_model_TEMP/assets\n"
          ]
        },
        {
          "output_type": "stream",
          "name": "stderr",
          "text": [
            "INFO:tensorflow:Assets written to: /content/gdrive/MyDrive/gender-project/keras_lstm_model_TEMP/assets\n",
            "WARNING:absl:<keras.layers.recurrent.LSTMCell object at 0x7faa4fb60d50> has the same name 'LSTMCell' as a built-in Keras object. Consider renaming <class 'keras.layers.recurrent.LSTMCell'> to avoid naming conflicts when loading with `tf.keras.models.load_model`. If renaming is not possible, pass the object in the `custom_objects` parameter of the load function.\n",
            "WARNING:absl:<keras.layers.recurrent.LSTMCell object at 0x7faa4f0c9150> has the same name 'LSTMCell' as a built-in Keras object. Consider renaming <class 'keras.layers.recurrent.LSTMCell'> to avoid naming conflicts when loading with `tf.keras.models.load_model`. If renaming is not possible, pass the object in the `custom_objects` parameter of the load function.\n"
          ]
        },
        {
          "output_type": "stream",
          "name": "stdout",
          "text": [
            "251/251 [==============================] - 71s 268ms/step - loss: 0.6921 - accuracy: 0.5250 - val_loss: 0.6881 - val_accuracy: 0.5273\n",
            "Epoch 2/20\n",
            "251/251 [==============================] - 48s 191ms/step - loss: 0.6603 - accuracy: 0.6099 - val_loss: 0.6500 - val_accuracy: 0.6297\n",
            "Epoch 3/20\n",
            "251/251 [==============================] - 49s 194ms/step - loss: 0.6240 - accuracy: 0.6560 - val_loss: 0.6162 - val_accuracy: 0.6628\n",
            "Epoch 4/20\n",
            "251/251 [==============================] - 49s 195ms/step - loss: 0.6060 - accuracy: 0.6764 - val_loss: 0.6043 - val_accuracy: 0.6721\n",
            "Epoch 5/20\n",
            "251/251 [==============================] - 49s 195ms/step - loss: 0.5855 - accuracy: 0.6928 - val_loss: 0.5990 - val_accuracy: 0.6801\n",
            "Epoch 6/20\n",
            "251/251 [==============================] - ETA: 0s - loss: 0.5732 - accuracy: 0.7052"
          ]
        },
        {
          "output_type": "stream",
          "name": "stderr",
          "text": [
            "WARNING:absl:Found untraced functions such as lstm_cell_1_layer_call_fn, lstm_cell_1_layer_call_and_return_conditional_losses, lstm_cell_2_layer_call_fn, lstm_cell_2_layer_call_and_return_conditional_losses, lstm_cell_1_layer_call_fn while saving (showing 5 of 10). These functions will not be directly callable after loading.\n"
          ]
        },
        {
          "output_type": "stream",
          "name": "stdout",
          "text": [
            "INFO:tensorflow:Assets written to: /content/gdrive/MyDrive/gender-project/keras_lstm_model_TEMP/assets\n"
          ]
        },
        {
          "output_type": "stream",
          "name": "stderr",
          "text": [
            "INFO:tensorflow:Assets written to: /content/gdrive/MyDrive/gender-project/keras_lstm_model_TEMP/assets\n",
            "WARNING:absl:<keras.layers.recurrent.LSTMCell object at 0x7faa4fb60d50> has the same name 'LSTMCell' as a built-in Keras object. Consider renaming <class 'keras.layers.recurrent.LSTMCell'> to avoid naming conflicts when loading with `tf.keras.models.load_model`. If renaming is not possible, pass the object in the `custom_objects` parameter of the load function.\n",
            "WARNING:absl:<keras.layers.recurrent.LSTMCell object at 0x7faa4f0c9150> has the same name 'LSTMCell' as a built-in Keras object. Consider renaming <class 'keras.layers.recurrent.LSTMCell'> to avoid naming conflicts when loading with `tf.keras.models.load_model`. If renaming is not possible, pass the object in the `custom_objects` parameter of the load function.\n"
          ]
        },
        {
          "output_type": "stream",
          "name": "stdout",
          "text": [
            "251/251 [==============================] - 65s 259ms/step - loss: 0.5732 - accuracy: 0.7052 - val_loss: 0.6015 - val_accuracy: 0.6744\n",
            "Epoch 7/20\n",
            "251/251 [==============================] - 48s 193ms/step - loss: 0.5658 - accuracy: 0.7113 - val_loss: 0.6126 - val_accuracy: 0.6708\n",
            "Epoch 8/20\n",
            "251/251 [==============================] - 48s 193ms/step - loss: 0.5595 - accuracy: 0.7120 - val_loss: 0.5993 - val_accuracy: 0.6799\n",
            "Epoch 9/20\n",
            "251/251 [==============================] - 49s 193ms/step - loss: 0.5547 - accuracy: 0.7144 - val_loss: 0.5930 - val_accuracy: 0.6779\n"
          ]
        },
        {
          "output_type": "stream",
          "name": "stderr",
          "text": [
            "WARNING:absl:Found untraced functions such as lstm_cell_1_layer_call_fn, lstm_cell_1_layer_call_and_return_conditional_losses, lstm_cell_2_layer_call_fn, lstm_cell_2_layer_call_and_return_conditional_losses, lstm_cell_1_layer_call_fn while saving (showing 5 of 10). These functions will not be directly callable after loading.\n"
          ]
        },
        {
          "output_type": "stream",
          "name": "stdout",
          "text": [
            "INFO:tensorflow:Assets written to: /content/gdrive/MyDrive/gender-project/keras_lstm_model_TEMP/assets\n"
          ]
        },
        {
          "output_type": "stream",
          "name": "stderr",
          "text": [
            "INFO:tensorflow:Assets written to: /content/gdrive/MyDrive/gender-project/keras_lstm_model_TEMP/assets\n",
            "WARNING:absl:<keras.layers.recurrent.LSTMCell object at 0x7faa4fb60d50> has the same name 'LSTMCell' as a built-in Keras object. Consider renaming <class 'keras.layers.recurrent.LSTMCell'> to avoid naming conflicts when loading with `tf.keras.models.load_model`. If renaming is not possible, pass the object in the `custom_objects` parameter of the load function.\n",
            "WARNING:absl:<keras.layers.recurrent.LSTMCell object at 0x7faa4f0c9150> has the same name 'LSTMCell' as a built-in Keras object. Consider renaming <class 'keras.layers.recurrent.LSTMCell'> to avoid naming conflicts when loading with `tf.keras.models.load_model`. If renaming is not possible, pass the object in the `custom_objects` parameter of the load function.\n"
          ]
        },
        {
          "output_type": "stream",
          "name": "stdout",
          "text": [
            "Model saved to: /content/gdrive/MyDrive/gender-project/keras_lstm_model_TEMP\n"
          ]
        }
      ]
    },
    {
      "cell_type": "code",
      "metadata": {
        "colab": {
          "base_uri": "https://localhost:8080/",
          "height": 421
        },
        "id": "NR2AR08Drd_k",
        "outputId": "94dc7e62-0b40-4e23-bae9-8fbde724afd5"
      },
      "source": [
        "fig, axs = plt.subplots(1, 2, figsize=(15,6))\n",
        "axs[0].set_title('Accuracy')\n",
        "axs[0].set_xlabel('epoch')\n",
        "axs[0].set_ylabel('accuracy')\n",
        "axs[0].plot(history.history['accuracy'])\n",
        "axs[0].plot(history.history['val_accuracy'])\n",
        "axs[0].legend(['train', 'test'])\n",
        "\n",
        "axs[1].set_title('Loss')\n",
        "axs[1].set_xlabel('epoch')\n",
        "axs[1].set_ylabel('loss')\n",
        "axs[1].plot(history.history['loss'])\n",
        "axs[1].plot(history.history['val_loss'])\n",
        "axs[1].legend(['train', 'test'])"
      ],
      "execution_count": 12,
      "outputs": [
        {
          "output_type": "execute_result",
          "data": {
            "text/plain": [
              "<matplotlib.legend.Legend at 0x7faa4f17ded0>"
            ]
          },
          "metadata": {},
          "execution_count": 12
        },
        {
          "output_type": "display_data",
          "data": {
            "image/png": "[encoded data removed]",
            "text/plain": [
              "<Figure size 1080x432 with 2 Axes>"
            ]
          },
          "metadata": {
            "needs_background": "light"
          }
        }
      ]
    },
    {
      "cell_type": "code",
      "metadata": {
        "colab": {
          "base_uri": "https://localhost:8080/"
        },
        "id": "fa502Pzn31CQ",
        "outputId": "bf572420-4231-4456-dec4-869732608b14"
      },
      "source": [
        "keras.models.load_model(save_path)"
      ],
      "execution_count": 13,
      "outputs": [
        {
          "output_type": "execute_result",
          "data": {
            "text/plain": [
              "<keras.engine.sequential.Sequential at 0x7faa59e0e150>"
            ]
          },
          "metadata": {},
          "execution_count": 13
        }
      ]
    }
  ]
}