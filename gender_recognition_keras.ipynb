{
  "nbformat": 4,
  "nbformat_minor": 0,
  "metadata": {
    "colab": {
      "name": "gender-recognition-keras.ipynb",
      "provenance": [],
      "collapsed_sections": [],
      "authorship_tag": "ABX9TyN1rI+t4l7d4xzySk15YnSA",
      "include_colab_link": true
    },
    "kernelspec": {
      "name": "python3",
      "display_name": "Python 3"
    },
    "language_info": {
      "name": "python"
    },
    "accelerator": "GPU"
  },
  "cells": [
    {
      "cell_type": "markdown",
      "metadata": {
        "id": "view-in-github",
        "colab_type": "text"
      },
      "source": [
        "<a href=\"https://colab.research.google.com/github/masalha-alaa/gender-prediction/blob/master/gender_recognition_keras.ipynb\" target=\"_parent\"><img src=\"https://colab.research.google.com/assets/colab-badge.svg\" alt=\"Open In Colab\"/></a>"
      ]
    },
    {
      "cell_type": "code",
      "metadata": {
        "id": "AJLJi95l9Pjp",
        "colab": {
          "base_uri": "https://localhost:8080/"
        },
        "outputId": "58e2b318-2dc1-4a7d-ad0a-39755cab8cf8"
      },
      "source": [
        "import os\n",
        "from google.colab import drive\n",
        "\n",
        "from collections import OrderedDict\n",
        "from collections import Counter\n",
        "from enum import Enum\n",
        "import re\n",
        "!pip install emoji\n",
        "import emoji\n",
        "from sklearn.feature_selection import SelectKBest\n",
        "from sklearn.preprocessing import MinMaxScaler\n",
        "from sklearn.metrics import mean_squared_error\n",
        "from sklearn.feature_extraction.text import CountVectorizer, TfidfVectorizer\n",
        "import scipy.sparse as sp\n",
        "from multiprocessing import Pool, cpu_count\n",
        "\n",
        "import tensorflow as tf\n",
        "from tensorflow.keras.utils import to_categorical\n",
        "from tensorflow import keras\n",
        "from tensorflow.keras import callbacks, layers\n",
        "\n",
        "from datetime import datetime\n",
        "import numpy as np\n",
        "import pandas as pd\n",
        "\n",
        "from pathlib import Path\n",
        "import zipfile\n",
        "from pickle import load, dump\n",
        "\n",
        "from sklearn.preprocessing import LabelEncoder\n",
        "from sklearn.metrics import confusion_matrix\n",
        "\n",
        "import string\n",
        "import random\n",
        "from tqdm.notebook import tqdm\n",
        "import matplotlib.pyplot as plt\n",
        "import itertools\n",
        "\n",
        "import nltk\n",
        "nltk.download('averaged_perceptron_tagger')\n",
        "nltk.download('punkt')\n",
        "nltk.download('vader_lexicon')\n",
        "from nltk import word_tokenize\n",
        "from nltk import data as nltk_data, pos_tag\n",
        "from nltk.sentiment import SentimentIntensityAnalyzer\n",
        "\n",
        "\n",
        "SEED = 42\n",
        "BATCH_SIZE = 64\n",
        "NGRAM_LEN = (1)\n",
        "MOST_COMMON = 1150"
      ],
      "execution_count": 1,
      "outputs": [
        {
          "output_type": "stream",
          "name": "stdout",
          "text": [
            "Collecting emoji\n",
            "  Downloading emoji-1.6.1.tar.gz (170 kB)\n",
            "\u001b[?25l\r\u001b[K     |██                              | 10 kB 19.9 MB/s eta 0:00:01\r\u001b[K     |███▉                            | 20 kB 22.8 MB/s eta 0:00:01\r\u001b[K     |█████▉                          | 30 kB 23.0 MB/s eta 0:00:01\r\u001b[K     |███████▊                        | 40 kB 18.3 MB/s eta 0:00:01\r\u001b[K     |█████████▋                      | 51 kB 14.6 MB/s eta 0:00:01\r\u001b[K     |███████████▋                    | 61 kB 10.8 MB/s eta 0:00:01\r\u001b[K     |█████████████▌                  | 71 kB 11.5 MB/s eta 0:00:01\r\u001b[K     |███████████████▍                | 81 kB 12.6 MB/s eta 0:00:01\r\u001b[K     |█████████████████▍              | 92 kB 11.6 MB/s eta 0:00:01\r\u001b[K     |███████████████████▎            | 102 kB 12.4 MB/s eta 0:00:01\r\u001b[K     |█████████████████████▏          | 112 kB 12.4 MB/s eta 0:00:01\r\u001b[K     |███████████████████████▏        | 122 kB 12.4 MB/s eta 0:00:01\r\u001b[K     |█████████████████████████       | 133 kB 12.4 MB/s eta 0:00:01\r\u001b[K     |███████████████████████████     | 143 kB 12.4 MB/s eta 0:00:01\r\u001b[K     |█████████████████████████████   | 153 kB 12.4 MB/s eta 0:00:01\r\u001b[K     |██████████████████████████████▉ | 163 kB 12.4 MB/s eta 0:00:01\r\u001b[K     |████████████████████████████████| 170 kB 12.4 MB/s \n",
            "\u001b[?25hBuilding wheels for collected packages: emoji\n",
            "  Building wheel for emoji (setup.py) ... \u001b[?25l\u001b[?25hdone\n",
            "  Created wheel for emoji: filename=emoji-1.6.1-py3-none-any.whl size=169314 sha256=6cf9a9ef989f22c989ff9072f658982402f9a3402527782f28a28ec99d614fab\n",
            "  Stored in directory: /root/.cache/pip/wheels/ea/5f/d3/03d313ddb3c2a1a427bb4690f1621eea60fe6f2a30cc95940f\n",
            "Successfully built emoji\n",
            "Installing collected packages: emoji\n",
            "Successfully installed emoji-1.6.1\n",
            "[nltk_data] Downloading package averaged_perceptron_tagger to\n",
            "[nltk_data]     /root/nltk_data...\n",
            "[nltk_data]   Unzipping taggers/averaged_perceptron_tagger.zip.\n",
            "[nltk_data] Downloading package punkt to /root/nltk_data...\n",
            "[nltk_data]   Unzipping tokenizers/punkt.zip.\n",
            "[nltk_data] Downloading package vader_lexicon to /root/nltk_data...\n"
          ]
        },
        {
          "output_type": "stream",
          "name": "stderr",
          "text": [
            "/usr/local/lib/python3.7/dist-packages/nltk/twitter/__init__.py:20: UserWarning: The twython library has not been installed. Some functionality from the twitter package will not be available.\n",
            "  warnings.warn(\"The twython library has not been installed. \"\n"
          ]
        }
      ]
    },
    {
      "cell_type": "code",
      "metadata": {
        "id": "kUu-7gfL-lNj",
        "colab": {
          "base_uri": "https://localhost:8080/"
        },
        "outputId": "2d38ece9-c2c8-4df6-e369-7ce7928a2418"
      },
      "source": [
        "drive.mount('/content/gdrive')"
      ],
      "execution_count": 2,
      "outputs": [
        {
          "output_type": "stream",
          "name": "stdout",
          "text": [
            "Mounted at /content/gdrive\n"
          ]
        }
      ]
    },
    {
      "cell_type": "code",
      "metadata": {
        "id": "BpcJL8slBDKG"
      },
      "source": [
        "# Dataframe columns\n",
        "TEXT = 'txt'\n",
        "URL = 'url'\n",
        "AUTHOR = 'author'\n",
        "LABEL = GENDER = 'gender'"
      ],
      "execution_count": 3,
      "outputs": []
    },
    {
      "cell_type": "code",
      "metadata": {
        "id": "IrrS03-ZBxSQ"
      },
      "source": [
        "def clean_line_parallel(params):\n",
        "    part, emoticons_ = params\n",
        "    return part.apply(lambda row: clean_line(row, emoticons_))\n",
        "\n",
        "\n",
        "def clean_line(line, emos=None):\n",
        "    if not line:\n",
        "        return ''\n",
        "    EMOJI = r'emj'\n",
        "    URL = r'url'\n",
        "    PUNCT = r'pnc'\n",
        "    remove = ['your comment has been removed', 'this comment or post has been removed', 'removed ', 'removed. ',\n",
        "              'your submission has been remove', 'this post has been removed', 'your post has been removed']\n",
        "    line = line.lower()\n",
        "    if any(re.match(r, line) for r in remove):\n",
        "        return ''\n",
        "    line = emoji.get_emoji_regexp().sub(EMOJI, line)\n",
        "    if emos is None:\n",
        "        emoticons_ = emoticons\n",
        "    else:\n",
        "        emoticons_ = emos\n",
        "    for emoticon in emoticons_:\n",
        "        line = line.replace(emoticon, EMOJI)\n",
        "    line = re.sub(r'\\(?http\\S+\\)?', URL, line)\n",
        "    return line\n",
        "\n",
        "\n",
        "def posify(txt):\n",
        "    \"\"\"\n",
        "    Converts txt to part of speech tags\n",
        "    \"\"\"\n",
        "    return ' '.join([pair[1] for pair in pos_tag(txt.split())])\n",
        "\n",
        "\n",
        "def posifyNew(txt):\n",
        "    \"\"\"\n",
        "    Converts txt to pairs of word & POS\n",
        "    \"\"\"\n",
        "    return ' '.join([' '.join(pos) for pos in pos_tag(txt.split())])\n",
        "\n",
        "\n",
        "def posifyNew2(txt):\n",
        "    \"\"\"\n",
        "    Appends pos text to txt\n",
        "    \"\"\"\n",
        "    return txt + ' ' + ' '.join([pos[1] for pos in pos_tag(txt.split())])\n",
        "\n",
        "\n",
        "\n",
        "def tokenize(txt):\n",
        "    # return ' '.join(word_tokenize(clean_line(txt)))\n",
        "    # return clean_line(txt)\n",
        "    return ' '.join(word_tokenize(txt))\n",
        "\n",
        "\n",
        "def sentecize(txt):\n",
        "    return tokenizer.tokenize(txt)\n",
        "\n",
        "\n",
        "def aggregate(df, sentences_n=4):\n",
        "    df_agg = df.groupby(df.index // sentences_n).agg({'txt': ' '.join, 'pos': ' '.join, 'gender': 'first'}).reset_index(drop=True).copy()\n",
        "    return df_agg"
      ],
      "execution_count": 4,
      "outputs": []
    },
    {
      "cell_type": "code",
      "metadata": {
        "colab": {
          "base_uri": "https://localhost:8080/"
        },
        "id": "ETcKorg5Bo2W",
        "outputId": "1b07a66c-9759-49bf-e246-ea8116affb1d"
      },
      "source": [
        "ts = datetime.now()\n",
        "print('Program started')\n",
        "print(f'{ts}\\n')\n",
        "\n",
        "EMOJI = r'emj'\n",
        "URL = r'url'\n",
        "MALE, FEMALE = 0, 1\n",
        "PRECUT = 0.30\n",
        "CLASS_SIZE = None  # None to take min max\n",
        "SELECT_K_BEST = 100\n",
        "TRAIN_FRAC = 0.70\n",
        "MIN_SENT_LEN = 5  # in tokens  # TODO: Do some trials\n",
        "\n",
        "DRIVE_ROOT_DATA_DIR = Path(\"/content/gdrive/MyDrive/gender-project/\")\n",
        "EXTRA_DIR = DRIVE_ROOT_DATA_DIR / \"extra\"\n",
        "EMOTICONS_LST_FILE = \"emoticons.txt\"\n",
        "FUNCTION_WORDS_LST_FILE = \"fw.txt\"\n",
        "\n",
        "# read dataset\n",
        "data = pd.read_csv(DRIVE_ROOT_DATA_DIR / \"dataset3 and 2021-11-06 19-51-29\" / \"raw\" / \"data.csv\")\n",
        "if 0 < PRECUT < 1:\n",
        "    data = data.sample(frac=PRECUT, random_state=SEED)\n",
        "\n",
        "data = data.drop(data[(data.gender != 'male') & (data.gender != 'female')].index).reset_index(drop=True)\n",
        "\n",
        "# Clean\n",
        "clean_ts = datetime.now()\n",
        "print('Cleaning...', end=' ')\n",
        "with open(EXTRA_DIR / EMOTICONS_LST_FILE) as f:\n",
        "    emoticons = [emoticon.lower() for emoticon in list(set(f.read().split()))]\n",
        "if MIN_SENT_LEN > 1:\n",
        "    # TODO: Ditch short before or after exploding?!\n",
        "    data[data.txt.str.split().apply(len) < MIN_SENT_LEN] = ''\n",
        "    # data = data[data.txt.str.split().apply(len) >= MIN_SENT_LEN].reset_index(drop=True)\n",
        "\n",
        "# PARALLEL BEGIN\n",
        "pools = cpu_count()\n",
        "with Pool(pools) as pool:\n",
        "    groups = [(part, emoticons) for part in np.array_split(data['txt'], pools)]\n",
        "    data['txt'] = pd.concat(pool.map(clean_line_parallel, groups), axis=0)\n",
        "# PARALLEL END\n",
        "\n",
        "data = data.replace('', np.nan).dropna().reset_index(drop=True)\n",
        "print(datetime.now() - clean_ts)\n",
        "\n",
        "# split to genders\n",
        "print('Splitting to genders...')\n",
        "male = data.loc[data['gender'] == 'male', ['txt']]\n",
        "female = data.loc[data['gender'] == 'female', ['txt']]\n",
        "\n",
        "# tokenize\n",
        "tokeniz_ts = datetime.now()\n",
        "print('Tokenzing...', end=' ')\n",
        "male['txt'] = male['txt'].apply(tokenize)\n",
        "female['txt'] = female['txt'].apply(tokenize)\n",
        "print(datetime.now() - tokeniz_ts)\n",
        "\n",
        "# split to sentences\n",
        "print('Splitting to sentences...')\n",
        "tokenizer = nltk_data.load('tokenizers/punkt/english.pickle')\n",
        "male = male.apply(lambda row: sentecize(row['txt']), axis=1).explode('txt').apply(lambda row: row.strip()).replace('', np.nan).dropna().to_frame('txt').copy().reset_index(drop=True)\n",
        "female = female.apply(lambda row: sentecize(row['txt']), axis=1).explode('txt').apply(lambda row: row.strip()).replace('', np.nan).dropna().to_frame('txt').copy().reset_index(drop=True)\n",
        "\n",
        "# sentiment analysis per sentence\n",
        "def createSentiments(ser, sia):\n",
        "    sentiments = ser.apply(lambda row: {k:v for k,v in sia.polarity_scores(row).items() if k != 'compound'})\n",
        "    return sentiments\n",
        "\n",
        "print('Sentiment analysis...', end=' ')\n",
        "sia_ts = datetime.now()\n",
        "sia = SentimentIntensityAnalyzer()\n",
        "sentiments = createSentiments(male['txt'], sia)\n",
        "male['txt'] = male.apply(lambda row: row['txt'] + ' ' + max(sentiments[row.name], key=sentiments[row.name].get), axis=1)\n",
        "sentiments = createSentiments(female['txt'], sia)\n",
        "female['txt'] = female.apply(lambda row: row['txt'] + ' ' + max(sentiments[row.name], key=sentiments[row.name].get), axis=1)\n",
        "print(datetime.now() - sia_ts)\n",
        "print(f\"Example: {male['txt'][0]}\")\n",
        "\n",
        "# posify\n",
        "print('Posifying...', end=' ')\n",
        "ts_pos = datetime.now()\n",
        "with Pool(cpu_count()) as pool:\n",
        "    # only pos\n",
        "    # male['pos'] = pool.map(posify, male['txt'])\n",
        "    # female['pos'] = pool.map(posify, female['txt'])\n",
        "    # txt and pos together\n",
        "    male['pos'] = pool.map(posifyNew, male['txt'])\n",
        "    female['pos'] = pool.map(posifyNew, female['txt'])\n",
        "print(datetime.now() - ts_pos)\n",
        "\n",
        "# add labels\n",
        "print('Adding labels...')\n",
        "male['gender'] = [MALE] * len(male)\n",
        "female['gender'] = [FEMALE] * len(female)\n",
        "\n",
        "# sample randomly and aggregate\n",
        "select_n = CLASS_SIZE if CLASS_SIZE and CLASS_SIZE <= min(len(male), len(female)) else min(len(male), len(female))\n",
        "print(f'Class size: {select_n}')\n",
        "print('Shuffling and aggregating...')\n",
        "male = male.sample(n=select_n, random_state=SEED).reset_index(drop=True)\n",
        "female = female.sample(n=select_n, random_state=SEED).reset_index(drop=True)\n",
        "male = aggregate(male)\n",
        "female = aggregate(female)\n",
        "print(f'Class size (M,F): {len(male)}, {len(female)}')\n",
        "\n",
        "# merge and shuffle\n",
        "print('Merging and shuffling...')\n",
        "data = pd.concat([male, female]).reset_index(drop=True).sample(frac=1.0, random_state=SEED).reset_index(drop=True)\n",
        "\n",
        "# split to train / test\n",
        "print('Splitting to train / test...')\n",
        "test = data.iloc[int(len(data) * TRAIN_FRAC):].reset_index(drop=True)\n",
        "train = data.iloc[:int(len(data) * TRAIN_FRAC)]\n",
        "print(f'Train size: {len(train)}')\n",
        "print(f'Test size: {len(test)}')"
      ],
      "execution_count": 5,
      "outputs": [
        {
          "output_type": "stream",
          "name": "stdout",
          "text": [
            "Program started\n",
            "2021-12-04 09:06:04.725065\n",
            "\n",
            "Cleaning... 0:00:49.599647\n",
            "Splitting to genders...\n",
            "Tokenzing... 0:00:17.160567\n",
            "Splitting to sentences...\n",
            "Sentiment analysis... 0:00:29.933568\n",
            "Example: it helpdesk nerd combined with being linux sysadmin nerd neu\n",
            "Posifying... 0:01:47.088206\n",
            "Adding labels...\n",
            "Class size: 45898\n",
            "Shuffling and aggregating...\n",
            "Class size (M,F): 11475, 11475\n",
            "Merging and shuffling...\n",
            "Splitting to train / test...\n",
            "Train size: 16064\n",
            "Test size: 6886\n"
          ]
        }
      ]
    },
    {
      "cell_type": "code",
      "metadata": {
        "id": "kIlwUunJq7nx"
      },
      "source": [
        "# Convert to tensorflow dataset\n",
        "\n",
        "# Choose:\n",
        "# DATA = TEXT\n",
        "DATA = 'pos'\n",
        "\n",
        "train_dataset = tf.data.Dataset.from_tensor_slices((train[DATA], keras.utils.to_categorical(train[LABEL])))\n",
        "test_dataset = tf.data.Dataset.from_tensor_slices((test[DATA], keras.utils.to_categorical(test[LABEL])))\n",
        "\n",
        "train_dataset = train_dataset.shuffle(train.shape[0]).batch(BATCH_SIZE).prefetch(tf.data.AUTOTUNE)\n",
        "test_dataset = test_dataset.shuffle(test.shape[0]).batch(BATCH_SIZE).prefetch(tf.data.AUTOTUNE)\n",
        "\n",
        "train, test = None, None"
      ],
      "execution_count": 6,
      "outputs": []
    },
    {
      "cell_type": "code",
      "metadata": {
        "colab": {
          "base_uri": "https://localhost:8080/",
          "height": 320
        },
        "id": "Krvqr_JX8srJ",
        "outputId": "16c364db-ae7f-4bc8-a072-6a9c71e2aac8"
      },
      "source": [
        "vocab = Counter()\n",
        "# junk = data[DATA].str.split().apply(vocab.update)\n",
        "junk = data[DATA].apply(lambda x: vocab.update(x.split()))\n",
        "junk = None\n",
        "vocab = vocab.most_common(MOST_COMMON)\n",
        "encoder = tf.keras.layers.experimental.preprocessing.TextVectorization(standardize=None, vocabulary=list(set([k for k,_ in vocab])), ngrams=NGRAM_LEN)\n",
        "# encoder.adapt(train_dataset.map(lambda text, label: text))  # not needed, because we passed the vocabulary manually\n",
        "print(len(vocab), vocab[:20])\n",
        "print(f'Min occurrences: {vocab[-1]}')\n",
        "plt.bar(*zip(*vocab))\n",
        "vocab = None"
      ],
      "execution_count": 7,
      "outputs": [
        {
          "output_type": "stream",
          "name": "stdout",
          "text": [
            "1150 [('NN', 301444), ('.', 160920), ('IN', 141341), ('JJ', 109581), ('RB', 108202), ('PRP', 106969), ('DT', 99770), (',', 96108), ('VB', 87249), ('neu', 84205), ('VBP', 67511), ('NNS', 63383), ('CC', 57556), ('i', 49594), ('VBZ', 45410), ('VBD', 40851), ('TO', 39842), ('to', 39476), ('and', 35567), ('VBG', 35040)]\n",
            "Min occurrences: ('birthday', 105)\n"
          ]
        },
        {
          "output_type": "display_data",
          "data": {
            "image/png": "[encoded data removed]",
            "text/plain": [
              "<Figure size 432x288 with 1 Axes>"
            ]
          },
          "metadata": {
            "needs_background": "light"
          }
        }
      ]
    },
    {
      "cell_type": "code",
      "metadata": {
        "colab": {
          "base_uri": "https://localhost:8080/"
        },
        "id": "uEVlVzulT9TJ",
        "outputId": "4f46d2ef-839c-44ed-aa85-c9afa981f61e"
      },
      "source": [
        "random.sample(encoder.get_vocabulary(), 40)"
      ],
      "execution_count": 8,
      "outputs": [
        {
          "output_type": "execute_result",
          "data": {
            "text/plain": [
              "['okay',\n",
              " 'black',\n",
              " 'small',\n",
              " 'luck',\n",
              " 'though',\n",
              " 'my',\n",
              " 'told',\n",
              " 'use',\n",
              " 'kind',\n",
              " 'building',\n",
              " 'back',\n",
              " 'area',\n",
              " 'comes',\n",
              " 'moment',\n",
              " 'put',\n",
              " 'white',\n",
              " 'joke',\n",
              " 'aware',\n",
              " 'actually',\n",
              " 'throw',\n",
              " 'apparently',\n",
              " 'well',\n",
              " 'seeing',\n",
              " 'certain',\n",
              " 'post',\n",
              " 'mother',\n",
              " 'store',\n",
              " 'birthday',\n",
              " 'internet',\n",
              " 'father',\n",
              " 'gives',\n",
              " 'incredibly',\n",
              " 'all',\n",
              " 'friends',\n",
              " 'it',\n",
              " '1.',\n",
              " 'telling',\n",
              " 'yeah',\n",
              " 'hey',\n",
              " 'wait']"
            ]
          },
          "metadata": {},
          "execution_count": 8
        }
      ]
    },
    {
      "cell_type": "code",
      "metadata": {
        "colab": {
          "base_uri": "https://localhost:8080/"
        },
        "id": "oEhs6EUepX_6",
        "outputId": "0ea1a675-310a-49d3-aa92-a9f67e4db3ac"
      },
      "source": [
        "for example, label in train_dataset.take(1):\n",
        "    print('text: ', example.numpy()[:3])\n",
        "    print('label: ', label.numpy()[:3])"
      ],
      "execution_count": 9,
      "outputs": [
        {
          "output_type": "stream",
          "name": "stdout",
          "text": [
            "text:  [b\"those DT are VBP great JJ , , good JJ answer NN pos NN it PRP sounds VBZ like IN an DT isolated JJ incident NN , , your PRP$ reaction NN alone RB tells VBZ me PRP he PRP does VBZ n't RB make VB a DT habit NN of IN yelling VBG at IN homeless JJ people NNS . . neu NN aww IN we PRP all DT here RB want VBP a DT relationship NN like IN that DT emjemj NN neu NN if IN you PRP 're VBP dwelling VBG on IN the DT negative JJ all PDT the DT time NN you PRP 're VBP going VBG to TO wind VB up RP ignoring VBG or CC missing VBG the DT positives NNS . . neu NN\"\n",
            " b'i NN think VBP that IN if IN i JJ told VBD her PRP$ that IN i NN had VBD feelings NNS for IN her PRP$ there EX , , then RB i VB would MD not RB be VB typing VBG this DT . . neu NN the DT first JJ time NN my PRP$ babies NNS hugged VBD me PRP back RP neu NN it PRP is VBZ my PRP$ problem NN because IN i NN love VBP her PRP$ and CC i JJ don NN \\xe2\\x80\\x99 VBD t NNS like IN her PRP$ being VBG self PRP conscious JJ about IN her PRP$ weight NN . . neu NN looks NNS wise VBP i JJ \\xe2\\x80\\x99 VBP m NNS like IN a DT 5.5-6. JJ add NN my PRP$ personality NN and CC i NN \\xe2\\x80\\x99 VBP d NNS say VBP i JJ \\xe2\\x80\\x99 VBP m VBP a DT 7\\xe2\\x80\\xa6would CD be VB higher JJR if IN i JJ wasn VBP \\xe2\\x80\\x99 JJ t NN introverted VBD neu JJ'\n",
            " b\"once RB you PRP finally RB feel VB okay RB , , the DT absence NN doesn NN \\xe2\\x80\\x99 NNP t NN effect NN you PRP . . neu VB what WP games NNS are VBP you PRP going VBG to TO play VB with IN me PRP this DT time NN : : anger NN , , excuse NN making NN ... : or CC the DT old JJ standby NN : : i NN do VBP n't RB really RB want VB to TO do VB it PRP ? . neu JJ if IN you PRP asked VBD would MD your PRP$ boyfriend NNS say VBP yes NNS without IN thought VBN ? . neu NNS shoes NNS . . neu NN\"]\n",
            "label:  [[0. 1.]\n",
            " [1. 0.]\n",
            " [1. 0.]]\n"
          ]
        }
      ]
    },
    {
      "cell_type": "code",
      "metadata": {
        "colab": {
          "base_uri": "https://localhost:8080/"
        },
        "id": "JyipsljCpepQ",
        "outputId": "53197ce7-c47d-43c7-aa02-08427588fbdd"
      },
      "source": [
        "MODEL = 1\n",
        "save_path = DRIVE_ROOT_DATA_DIR / \"keras_lstm_model\"\n",
        "\n",
        "print('Creating model...')\n",
        "if MODEL == 1:\n",
        "    model = tf.keras.Sequential([\n",
        "        # tf.keras.layers.Lambda(posify_data),\n",
        "        encoder,\n",
        "        tf.keras.layers.Embedding(\n",
        "            input_dim=len(encoder.get_vocabulary()),\n",
        "            output_dim=100,\n",
        "            # Use masking to handle the variable sequence lengths\n",
        "            mask_zero=True),\n",
        "        tf.keras.layers.Bidirectional(tf.keras.layers.LSTM(128)),\n",
        "        # tf.keras.layers.Dense(128, activation='relu'),\n",
        "        # tf.keras.layers.Dense(2)\n",
        "        tf.keras.layers.Dense(2, activation='softmax')\n",
        "    ])\n",
        "\n",
        "else:\n",
        "    model = tf.keras.Sequential([\n",
        "        encoder,\n",
        "        tf.keras.layers.Embedding(len(encoder.get_vocabulary()), 100, mask_zero=True),\n",
        "        tf.keras.layers.BatchNormalization(),\n",
        "        tf.keras.layers.Bidirectional(tf.keras.layers.LSTM(128,  return_sequences=True)),\n",
        "        tf.keras.layers.Bidirectional(tf.keras.layers.LSTM(128)),\n",
        "        # tf.keras.layers.Dense(64, activation='relu'),\n",
        "        # tf.keras.layers.Dropout(0.5),\n",
        "        # tf.keras.layers.Dense(2)\n",
        "        tf.keras.layers.Dropout(0.5),\n",
        "        tf.keras.layers.Dense(2, activation='softmax')\n",
        "    ])\n",
        "\n",
        "def lr_scheduler(epoch, lr):\n",
        "    if epoch > 0 and epoch % 5 == 0:\n",
        "        return lr * 0.5\n",
        "    return lr\n",
        "\n",
        "my_callbacks = [callbacks.LambdaCallback(on_epoch_end=lambda epoch,logs: model.save(save_path) if epoch % 5 == 0 else None),\n",
        "                callbacks.EarlyStopping(monitor='val_accuracy', patience=4, restore_best_weights=True),]\n",
        "                #callbacks.LearningRateScheduler(lr_scheduler),]\n",
        "                # callbacks.ReduceLROnPlateau(monitor='val_loss', factor=0.5, min_delta=0.01, min_lr=1e-5, patience=3, verbose=1)]\n",
        "loss_func = tf.keras.losses.CategoricalCrossentropy(from_logits=False)\n",
        "model.compile(loss=loss_func,\n",
        "              optimizer=tf.keras.optimizers.Adam(1e-4),\n",
        "              metrics=['accuracy'])\n",
        "\n",
        "\n",
        "# TEST:\n",
        "# predict on a sample text without padding.\n",
        "\n",
        "sample_text = ('The movie was cool. The animation and the graphics '\n",
        "               'were out of this world. I would recommend this movie.')\n",
        "predictions = model.predict(np.array([sample_text]))\n",
        "print(predictions[0])\n",
        "\n",
        "# predict on a sample text with padding\n",
        "\n",
        "padding = \"the \" * 2000\n",
        "predictions = model.predict(np.array([sample_text, padding]))\n",
        "print(predictions[0])\n",
        "\n",
        "# for i in range(len(encoded_lbls)):\n",
        "#     print(loss_func(predictions[0], keras.utils.to_categorical(i, num_classes=len(encoded_lbls))).numpy())"
      ],
      "execution_count": 13,
      "outputs": [
        {
          "output_type": "stream",
          "name": "stdout",
          "text": [
            "Creating model...\n",
            "[0.50281215 0.49718785]\n",
            "[0.50281215 0.49718785]\n"
          ]
        }
      ]
    },
    {
      "cell_type": "code",
      "metadata": {
        "colab": {
          "base_uri": "https://localhost:8080/"
        },
        "id": "HeBBFR55qTcZ",
        "outputId": "4b2b3380-4625-4976-8523-b92307911197"
      },
      "source": [
        "with tf.device('/gpu:0'):\n",
        "    history = model.fit(train_dataset, epochs=20, validation_data=test_dataset, callbacks=my_callbacks)  # TODO: validation_data=test_dataset\n",
        "model.save(save_path)\n",
        "print(f'Model saved to: {save_path}')"
      ],
      "execution_count": 14,
      "outputs": [
        {
          "output_type": "stream",
          "name": "stdout",
          "text": [
            "Epoch 1/20\n",
            "251/251 [==============================] - ETA: 0s - loss: 0.6897 - accuracy: 0.5310"
          ]
        },
        {
          "output_type": "stream",
          "name": "stderr",
          "text": [
            "WARNING:absl:Found untraced functions such as lstm_cell_1_layer_call_fn, lstm_cell_1_layer_call_and_return_conditional_losses, lstm_cell_2_layer_call_fn, lstm_cell_2_layer_call_and_return_conditional_losses, lstm_cell_1_layer_call_fn while saving (showing 5 of 10). These functions will not be directly callable after loading.\n"
          ]
        },
        {
          "output_type": "stream",
          "name": "stdout",
          "text": [
            "INFO:tensorflow:Assets written to: /content/gdrive/MyDrive/gender-project/keras_lstm_model/assets\n"
          ]
        },
        {
          "output_type": "stream",
          "name": "stderr",
          "text": [
            "INFO:tensorflow:Assets written to: /content/gdrive/MyDrive/gender-project/keras_lstm_model/assets\n",
            "WARNING:absl:<keras.layers.recurrent.LSTMCell object at 0x7fe695bdf250> has the same name 'LSTMCell' as a built-in Keras object. Consider renaming <class 'keras.layers.recurrent.LSTMCell'> to avoid naming conflicts when loading with `tf.keras.models.load_model`. If renaming is not possible, pass the object in the `custom_objects` parameter of the load function.\n",
            "WARNING:absl:<keras.layers.recurrent.LSTMCell object at 0x7fe695bb8750> has the same name 'LSTMCell' as a built-in Keras object. Consider renaming <class 'keras.layers.recurrent.LSTMCell'> to avoid naming conflicts when loading with `tf.keras.models.load_model`. If renaming is not possible, pass the object in the `custom_objects` parameter of the load function.\n"
          ]
        },
        {
          "output_type": "stream",
          "name": "stdout",
          "text": [
            "\b\b\b\b\b\b\b\b\b\b\b\b\b\b\b\b\b\b\b\b\b\b\b\b\b\b\b\b\b\b\b\b\b\b\b\b\b\b\b\b\b\b\b\b\b\b\b\b\b\b\b\b\b\b\b\b\b\b\b\b\b\b\b\b\b\b\b\b\b\b\b\b\b\b\b\b\b\b\b\b\b\b\b\b\r251/251 [==============================] - 100s 362ms/step - loss: 0.6897 - accuracy: 0.5310 - val_loss: 0.6700 - val_accuracy: 0.6011\n",
            "Epoch 2/20\n",
            "251/251 [==============================] - 54s 214ms/step - loss: 0.6507 - accuracy: 0.6238 - val_loss: 0.6300 - val_accuracy: 0.6465\n",
            "Epoch 3/20\n",
            "251/251 [==============================] - 49s 196ms/step - loss: 0.6134 - accuracy: 0.6716 - val_loss: 0.6133 - val_accuracy: 0.6544\n",
            "Epoch 4/20\n",
            "251/251 [==============================] - 53s 209ms/step - loss: 0.5881 - accuracy: 0.6904 - val_loss: 0.6013 - val_accuracy: 0.6642\n",
            "Epoch 5/20\n",
            "251/251 [==============================] - 51s 202ms/step - loss: 0.5757 - accuracy: 0.7000 - val_loss: 0.5930 - val_accuracy: 0.6763\n",
            "Epoch 6/20\n",
            "251/251 [==============================] - ETA: 0s - loss: 0.5667 - accuracy: 0.7090"
          ]
        },
        {
          "output_type": "stream",
          "name": "stderr",
          "text": [
            "WARNING:absl:Found untraced functions such as lstm_cell_1_layer_call_fn, lstm_cell_1_layer_call_and_return_conditional_losses, lstm_cell_2_layer_call_fn, lstm_cell_2_layer_call_and_return_conditional_losses, lstm_cell_1_layer_call_fn while saving (showing 5 of 10). These functions will not be directly callable after loading.\n"
          ]
        },
        {
          "output_type": "stream",
          "name": "stdout",
          "text": [
            "INFO:tensorflow:Assets written to: /content/gdrive/MyDrive/gender-project/keras_lstm_model/assets\n"
          ]
        },
        {
          "output_type": "stream",
          "name": "stderr",
          "text": [
            "INFO:tensorflow:Assets written to: /content/gdrive/MyDrive/gender-project/keras_lstm_model/assets\n",
            "WARNING:absl:<keras.layers.recurrent.LSTMCell object at 0x7fe695bdf250> has the same name 'LSTMCell' as a built-in Keras object. Consider renaming <class 'keras.layers.recurrent.LSTMCell'> to avoid naming conflicts when loading with `tf.keras.models.load_model`. If renaming is not possible, pass the object in the `custom_objects` parameter of the load function.\n",
            "WARNING:absl:<keras.layers.recurrent.LSTMCell object at 0x7fe695bb8750> has the same name 'LSTMCell' as a built-in Keras object. Consider renaming <class 'keras.layers.recurrent.LSTMCell'> to avoid naming conflicts when loading with `tf.keras.models.load_model`. If renaming is not possible, pass the object in the `custom_objects` parameter of the load function.\n"
          ]
        },
        {
          "output_type": "stream",
          "name": "stdout",
          "text": [
            "\b\b\b\b\b\b\b\b\b\b\b\b\b\b\b\b\b\b\b\b\b\b\b\b\b\b\b\b\b\b\b\b\b\b\b\b\b\b\b\b\b\b\b\b\b\b\b\b\b\b\b\b\b\b\b\b\b\b\b\b\b\b\b\b\b\b\b\b\b\b\b\b\b\b\b\b\b\b\b\b\b\b\b\b\r251/251 [==============================] - 83s 331ms/step - loss: 0.5667 - accuracy: 0.7090 - val_loss: 0.5980 - val_accuracy: 0.6737\n",
            "Epoch 7/20\n",
            "251/251 [==============================] - 53s 210ms/step - loss: 0.5596 - accuracy: 0.7145 - val_loss: 0.6030 - val_accuracy: 0.6762\n",
            "Epoch 8/20\n",
            "251/251 [==============================] - 50s 201ms/step - loss: 0.5537 - accuracy: 0.7195 - val_loss: 0.5937 - val_accuracy: 0.6798\n",
            "Epoch 9/20\n",
            "251/251 [==============================] - 50s 201ms/step - loss: 0.5509 - accuracy: 0.7203 - val_loss: 0.5979 - val_accuracy: 0.6709\n",
            "Epoch 10/20\n",
            "251/251 [==============================] - 54s 215ms/step - loss: 0.5487 - accuracy: 0.7239 - val_loss: 0.5922 - val_accuracy: 0.6779\n",
            "Epoch 11/20\n",
            "251/251 [==============================] - ETA: 0s - loss: 0.5451 - accuracy: 0.7252"
          ]
        },
        {
          "output_type": "stream",
          "name": "stderr",
          "text": [
            "WARNING:absl:Found untraced functions such as lstm_cell_1_layer_call_fn, lstm_cell_1_layer_call_and_return_conditional_losses, lstm_cell_2_layer_call_fn, lstm_cell_2_layer_call_and_return_conditional_losses, lstm_cell_1_layer_call_fn while saving (showing 5 of 10). These functions will not be directly callable after loading.\n"
          ]
        },
        {
          "output_type": "stream",
          "name": "stdout",
          "text": [
            "INFO:tensorflow:Assets written to: /content/gdrive/MyDrive/gender-project/keras_lstm_model/assets\n"
          ]
        },
        {
          "output_type": "stream",
          "name": "stderr",
          "text": [
            "INFO:tensorflow:Assets written to: /content/gdrive/MyDrive/gender-project/keras_lstm_model/assets\n",
            "WARNING:absl:<keras.layers.recurrent.LSTMCell object at 0x7fe695bdf250> has the same name 'LSTMCell' as a built-in Keras object. Consider renaming <class 'keras.layers.recurrent.LSTMCell'> to avoid naming conflicts when loading with `tf.keras.models.load_model`. If renaming is not possible, pass the object in the `custom_objects` parameter of the load function.\n",
            "WARNING:absl:<keras.layers.recurrent.LSTMCell object at 0x7fe695bb8750> has the same name 'LSTMCell' as a built-in Keras object. Consider renaming <class 'keras.layers.recurrent.LSTMCell'> to avoid naming conflicts when loading with `tf.keras.models.load_model`. If renaming is not possible, pass the object in the `custom_objects` parameter of the load function.\n"
          ]
        },
        {
          "output_type": "stream",
          "name": "stdout",
          "text": [
            "\b\b\b\b\b\b\b\b\b\b\b\b\b\b\b\b\b\b\b\b\b\b\b\b\b\b\b\b\b\b\b\b\b\b\b\b\b\b\b\b\b\b\b\b\b\b\b\b\b\b\b\b\b\b\b\b\b\b\b\b\b\b\b\b\b\b\b\b\b\b\b\b\b\b\b\b\b\b\b\b\b\b\b\b\r251/251 [==============================] - 81s 323ms/step - loss: 0.5451 - accuracy: 0.7252 - val_loss: 0.5965 - val_accuracy: 0.6783\n",
            "Epoch 12/20\n",
            "251/251 [==============================] - 50s 200ms/step - loss: 0.5431 - accuracy: 0.7240 - val_loss: 0.5976 - val_accuracy: 0.6763\n"
          ]
        },
        {
          "output_type": "stream",
          "name": "stderr",
          "text": [
            "WARNING:absl:Found untraced functions such as lstm_cell_1_layer_call_fn, lstm_cell_1_layer_call_and_return_conditional_losses, lstm_cell_2_layer_call_fn, lstm_cell_2_layer_call_and_return_conditional_losses, lstm_cell_1_layer_call_fn while saving (showing 5 of 10). These functions will not be directly callable after loading.\n"
          ]
        },
        {
          "output_type": "stream",
          "name": "stdout",
          "text": [
            "INFO:tensorflow:Assets written to: /content/gdrive/MyDrive/gender-project/keras_lstm_model/assets\n"
          ]
        },
        {
          "output_type": "stream",
          "name": "stderr",
          "text": [
            "INFO:tensorflow:Assets written to: /content/gdrive/MyDrive/gender-project/keras_lstm_model/assets\n",
            "WARNING:absl:<keras.layers.recurrent.LSTMCell object at 0x7fe695bdf250> has the same name 'LSTMCell' as a built-in Keras object. Consider renaming <class 'keras.layers.recurrent.LSTMCell'> to avoid naming conflicts when loading with `tf.keras.models.load_model`. If renaming is not possible, pass the object in the `custom_objects` parameter of the load function.\n",
            "WARNING:absl:<keras.layers.recurrent.LSTMCell object at 0x7fe695bb8750> has the same name 'LSTMCell' as a built-in Keras object. Consider renaming <class 'keras.layers.recurrent.LSTMCell'> to avoid naming conflicts when loading with `tf.keras.models.load_model`. If renaming is not possible, pass the object in the `custom_objects` parameter of the load function.\n"
          ]
        },
        {
          "output_type": "stream",
          "name": "stdout",
          "text": [
            "Model saved to: /content/gdrive/MyDrive/gender-project/keras_lstm_model\n"
          ]
        }
      ]
    },
    {
      "cell_type": "code",
      "metadata": {
        "colab": {
          "base_uri": "https://localhost:8080/",
          "height": 421
        },
        "id": "NR2AR08Drd_k",
        "outputId": "7c1dcf23-fcc7-4247-9f73-23a2647b1364"
      },
      "source": [
        "fig, axs = plt.subplots(1, 2, figsize=(15,6))\n",
        "axs[0].set_title('Accuracy')\n",
        "axs[0].set_xlabel('epoch')\n",
        "axs[0].set_ylabel('accuracy')\n",
        "axs[0].plot(history.history['accuracy'])\n",
        "axs[0].plot(history.history['val_accuracy'])\n",
        "axs[0].legend(['train', 'test'])\n",
        "\n",
        "axs[1].set_title('Loss')\n",
        "axs[1].set_xlabel('epoch')\n",
        "axs[1].set_ylabel('loss')\n",
        "axs[1].plot(history.history['loss'])\n",
        "axs[1].plot(history.history['val_loss'])\n",
        "axs[1].legend(['train', 'test'])"
      ],
      "execution_count": 49,
      "outputs": [
        {
          "output_type": "execute_result",
          "data": {
            "text/plain": [
              "<matplotlib.legend.Legend at 0x7fe5edf52b10>"
            ]
          },
          "metadata": {},
          "execution_count": 49
        },
        {
          "output_type": "display_data",
          "data": {
            "image/png": "[encoded data removed]",
            "text/plain": [
              "<Figure size 1080x432 with 2 Axes>"
            ]
          },
          "metadata": {
            "needs_background": "light"
          }
        }
      ]
    }
  ]
}